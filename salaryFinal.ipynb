{
 "cells": [
  {
   "cell_type": "markdown",
   "id": "935164b7-830e-45fd-b7e4-a7ff0e78b4dd",
   "metadata": {},
   "source": [
    "# Taking a look at salaries across the league for the 2023-24 NBA season "
   ]
  },
  {
   "cell_type": "code",
   "execution_count": 26,
   "id": "5c7688c3-cefa-44bd-92a2-2918ac14e891",
   "metadata": {},
   "outputs": [],
   "source": [
    "## Motivation: To work with plotly and create meaningful visualizations "
   ]
  },
  {
   "cell_type": "code",
   "execution_count": 27,
   "id": "3db24cac-d723-4314-97c1-a33ca4c49e30",
   "metadata": {},
   "outputs": [],
   "source": [
    "import plotly.express as px\n",
    "import pandas as pd\n",
    "import plotly.graph_objects as go"
   ]
  },
  {
   "cell_type": "code",
   "execution_count": 28,
   "id": "8d4ff181-66da-4e0e-85b4-3f6fa9fabd14",
   "metadata": {},
   "outputs": [],
   "source": [
    "file_path = 'salaries.csv'\n",
    "delimiter = ','\n",
    "df = pd.read_csv(file_path, sep=delimiter)"
   ]
  },
  {
   "cell_type": "code",
   "execution_count": 29,
   "id": "975f8b22-5ad4-4d79-a004-d315fdf371c5",
   "metadata": {},
   "outputs": [],
   "source": [
    "# All the colors for each team\n",
    "mia = ['#ce1141', '#be103c', '#ae0e37', '#9e0d32', '#8f0c2d', '#7f0a28', '#6f0923', '#5f081e', '#4f0719', '#3f0514', '#30040f', '#20030a', '#100105', '#000000']\n",
    "cho = ['#1d1160', '#192066', '#152e6d', '#113d73', '#0c4c79', '#085b7f', '#046986', '#00788c', '#00788c', '#177e8f', '#2e8493', '#458a96', '#5c8f9a', '#73959d', '#8a9ba1', '#a1a1a4']\n",
    "lacC = ['#c8102e', '#ac183d', '#8f214d', '#72295c', '#56316b', '#393a7b', '#1d428a', '#1d428a', '#183773', '#132c5c', '#0e2145', '#0a162e', '#050b17', '#000000']\n",
    "mem = ['#0e1130', '#12173f', '#171d46', '#1b234c', '#202953', '#252f5a', '#293560', '#2e3b67', '#33416d', '#374674', '#3c4c7b', '#415281', '#465888', '#4a5e8e', '#4f6495', '#546a9c', '#5870a2', '#5d76a9', '#b7c2d9']\n",
    "gsw = ['#1d428a', '#43587a', '#686e6b', '#8e845b', '#b49b4b', '#d9b13c', '#ffc72c', '#ffc72c', '#ffd04f', '#ffda72', '#ffe395', '#ffecb9', '#fff6dc', '#ffffff'] \n",
    "mil = ['#00471b', '#286138', '#4f7a54', '#779471', '#9fae8d', '#c6c7aa','#c6cfc5', '#c6cfc5', '#eee1c6', '#eee1c6',  '#f1e7d0', '#f7f1e4', '#ffffff', '#ffffff', '#ffffff']\n",
    "pho = ['#5f259f', '#7a3084', '#943c6a', '#af4750', '#ca5235', '#e45e1a', '#ff6900', '#ff6900', '#d45800', '#aa4600', '#803400', '#552300', '#2a1100', '#000000']\n",
    "bos = ['#007a33', '#1f7f38', '#3e833e', '#5d8843', '#7c8d48', '#9b914e', '#ba9653', '#ba9653', '#b4864b', '#ae7742', '#a8673a', '#a25732', '#9c4829', '#963821']\n",
    "phi = ['#0060a3','#006bb6', '#3b569c', '#764181', '#b22c66', '#ed174c', '#ed174c', '#b21c50', '#762154', '#3b2658', '#002b5c', '#002b5c', '#31547a', '#627c98', '#93a5b6', '#c4ced4']\n",
    "chi = ['#ce1141', '#ac0e36', '#890b2b', '#670820', '#450616', '#22030b', '#000000', '#000000', '#2a2a2a', '#555555', '#808080', '#aaaaaa', '#d4d4d4', '#ffffff', '#ffffff']\n",
    "nop = ['#0c2340', '#2b203d', '#4b1d3a', '#6a1a37', '#891634', '#a91331', '#c8102e', '#c8102e', '#bd2033', '#b23038', '#a6403d', '#9b5143', '#906148', '#85714d']\n",
    "mav = ['#00538c', '#004c84', '#00467d', '#003f75', '#00386d', '#003266', '#002b5e', '#002b5e', '#1f4570', '#3d5e82', '#5c7894', '#7b91a6', '#99abb8', '#b8c4ca', '#ffffff', '#ffffff']\n",
    "lal = ['#552583', '#61307c', '#6d3a76', '#79456f', '#854f69', '#915a62', '#9d645c', '#a96f55', '#b57a4e', '#c18448', '#cd8f41', '#d9993b', '#e5a434', '#f1ae2e', '#fdb927']\n",
    "atl = ['#c8102e', '#d12c2d', '#da482c', '#e2642b', '#eb8129', '#f49d28', '#fdb927', '#fdb927', '#edb53c', '#ddb150', '#ceae64', '#beaa79', '#aea68e', '#C4C7C7', '#ffffff']\n",
    "cle = ['#860038', '#70053a', '#5b0a3b', '#450f3d', '#2f143f', '#1a1940', '#041e42', '#041e42', '#2e383f', '#57523c', '#806c39', '#aa8736', '#d4a133', '#fdbb30']\n",
    "tor = ['#ce1141', '#ac0e36', '#890b2b', '#670820', '#450616', '#22030b', '#000000', '#000000', '#1b1b1b', '#363637', '#505052', '#6b6b6d', '#868689', '#a1a1a4']\n",
    "mini =['#5d76a9', '#506697', '#445686', '#384674', '#2b3762', '#1f2751', '#12173f', '#12173f', '#222647', '#313550', '#414458', '#515460', '#606369', '#707271']\n",
    "por = ['#e03a3e', '#cc3538', '#b72f33', '#a32a2d', '#8f2527', '#7a2022', '#661a1c', '#511517', '#3d1011', '#290b0b', '#140506', '#000000']\n",
    "brk = ['#ffffff', '#efefef', '#dfdfdf', '#cfcfcf', '#bfbfbf', '#afafaf', '#9f9f9f', '#8f8f8f', '#808080', '#707070', '#606060', '#505050', '#404040', '#303030', '#202020', '#101010', '#000000']\n",
    "was = ['#e31837', '#bd1b3d', '#971e43', '#72224a', '#4c2550', '#262856', '#002b5c', '#002b5c', '#214670', '#416184', '#627c98', '#8398ac', '#a3b3c0', '#c4ced4', '#c4ced4','#ffffff', '#ffffff' ]\n",
    "nyk = ['#006bb6', '#136dab', '#266fa0', '#397195', '#4b738a', '#5e757f', '#717774', '#847868', '#977a5d', '#aa7c52', '#bc7e47', '#cf803c', '#e28231', '#f58426','#f8a45e', '#fcd9bc']\n",
    "hou = ['#ce1141', '#b10f38', '#930c2e', '#760a25', '#58071c', '#3b0513', '#1d0209', '#000000', '#000000', '#1c1d1e', '#383b3d', '#54585b', '#707679', '#8c9397', '#a8b1b6', '#c4ced4', '#ffffff']\n",
    "sac = ['#5a2d81', '#5b3181', '#5b3680', '#5c3a80', '#5c3e7f', '#5d437f', '#5d477e', '#5e4b7e', '#5e507e', '#5f547d', '#60587d', '#605c7c', '#61617c', '#61657b', '#62697b', '#626e7a', '#63727a']\n",
    "okc = ['#007ac1', '#2271ab', '#446894', '#665f7e', '#895667', '#ab4d51', '#cd443a', '#ef3b24', '#ef3b24', '#cd392d', '#ab3736', '#89353f', '#663347', '#443150', '#222f59', '#002d62', '#00244e', '#001b3b']\n",
    "det = ['#c8102e', '#a61a4a', '#842466', '#612e82', '#3f389e', '#1d42ba', '#1d42ba', '#3d5bbc', '#5d74bd', '#7e8ebf', '#9ea7c0', '#bec0c2', '#bec0c2', '#98a3af', '#72859c', '#4c6888', '#264a75', '#002d62']\n",
    "uta = ['#002b5c', '#002e55', '#00314e', '#003446', '#00373f', '#003b38', '#003e31', '#004129', '#004422', '#00471b', '#00471b', '#1c511b', '#375b1b', '#53651b', '#6f6f1b', '#8a781b', '#a6821b', '#c28c1b', '#dd961b', '#f9a01b']\n",
    "orl = ['#0077c0', '#1c83c3', '#3890c6', '#549cc9', '#70a9cb', '#8cb5ce', '#a8c2d1', '#c4ced4', '#c4ced4', '#a8b1b6', '#8c9397', '#707679', '#54585b', '#383b3d', '#1c1d1e', '#000000']\n",
    "ind = ['#002d62', '#24415b', '#485654', '#6c6a4d', '#917e45', '#b5923e', '#d9a737', '#fdbb30', '#fdbb30', '#f4bc45', '#ebbc5a', '#e2bd6f', '#d9be83', '#d0bf98', '#c7bfad', '#c7bfad','#bec0c2', '#bec0c2']\n",
    "den = ['#0E2240', '#122b50', '#485654', '#6c6a4d', '#917e45', '#b5923e', '#d9a737', '#fdbb30', '#fdbb30', '#f4bc45', '#ebbc5a', '#e2bd6f', '#d9be83', '#d0bf98', '#c7bfad', '#c7bfad','#bec0c2', '#bec0c2']\n",
    "sas = ['#c4ced4', '#b8c2c8', '#adb6bb', '#a1aaaf', '#969ea2', '#8a9196', '#7f8589', '#73797d', '#686d70', '#5c6164', '#515557', '#45494b', '#3a3d3e', '#2e3032', '#232425', '#171819', '#0c0c0c', '#000000']\n"
   ]
  },
  {
   "cell_type": "code",
   "execution_count": 30,
   "id": "157f8602-3efd-4a1f-b3d2-1da68c9ef1d2",
   "metadata": {},
   "outputs": [],
   "source": [
    "team_colors = {'MIL': mil, 'DEN': den, 'PHO': pho, 'TOR': tor, 'ORL': orl, 'SAS': sas, 'GSW': gsw, 'NOP':nop, 'IND': ind,\n",
    "               'PHI':phi, 'MIA': mia, 'BOS': bos, 'LAC': lacC, 'CHI': chi, 'DAL': mav, 'LAL':lal, 'ATL': atl, 'CLE':cle, \n",
    "               'MIN': mini, 'SAC':sac, 'OKC':okc,'CHO':cho, 'NYK': nyk, 'BRK':brk, 'MEM': mem, 'DET':det, 'UTA':uta,\n",
    "               'HOU':hou, 'POR':por, 'WAS':was}"
   ]
  },
  {
   "cell_type": "code",
   "execution_count": 31,
   "id": "d399164a-398e-4f0a-9ad1-b32ce9601da2",
   "metadata": {},
   "outputs": [
    {
     "data": {
      "application/vnd.plotly.v1+json": {
       "config": {
        "plotlyServerURL": "https://plotly.com"
       },
       "data": [
        {
         "alignmentgroup": "True",
         "customdata": [
          [
           "Kawhi Leonard"
          ],
          [
           "Paul George"
          ],
          [
           "James Harden"
          ],
          [
           "Norman Powell"
          ],
          [
           "P.J. Tucker"
          ],
          [
           "Ivica Zubac"
          ],
          [
           "Terance Mann"
          ],
          [
           "Daniel Theis"
          ],
          [
           "Joshua Primo"
          ],
          [
           "Mason Plumlee"
          ],
          [
           "Russell Westbrook"
          ],
          [
           "Amir Coffey"
          ],
          [
           "Kobe Brown"
          ],
          [
           "Bones Hyland"
          ],
          [
           "Brandon Boston Jr."
          ]
         ],
         "hoverinfo": "y+text",
         "hovertemplate": "Tm=%{x}<br>Salary=%{y}<br>Player=%{customdata[0]}<extra></extra>",
         "legendgroup": "LAC",
         "marker": {
          "color": [
           "#c8102e",
           "#ac183d",
           "#8f214d",
           "#72295c",
           "#56316b",
           "#393a7b",
           "#1d428a",
           "#1d428a",
           "#183773",
           "#132c5c",
           "#0e2145",
           "#0a162e",
           "#050b17",
           "#000000"
          ],
          "pattern": {
           "shape": ""
          }
         },
         "name": "LAC",
         "offsetgroup": "LAC",
         "orientation": "v",
         "showlegend": true,
         "textposition": "auto",
         "type": "bar",
         "x": [
          "LAC",
          "LAC",
          "LAC",
          "LAC",
          "LAC",
          "LAC",
          "LAC",
          "LAC",
          "LAC",
          "LAC",
          "LAC",
          "LAC",
          "LAC",
          "LAC",
          "LAC"
         ],
         "xaxis": "x",
         "y": [
          45640084,
          45640084,
          35640000,
          18000000,
          11014500,
          10933333,
          10576923,
          8670002,
          6105941,
          5000000,
          3835738,
          3666667,
          2413320,
          2306400,
          1836096
         ],
         "yaxis": "y"
        },
        {
         "alignmentgroup": "True",
         "customdata": [
          [
           "Stephen Curry"
          ],
          [
           "Klay Thompson"
          ],
          [
           "Chris Paul"
          ],
          [
           "Andrew Wiggins"
          ],
          [
           "Draymond Green"
          ],
          [
           "Gary Payton II"
          ],
          [
           "Kevon Looney"
          ],
          [
           "Jonathan Kuminga"
          ],
          [
           "Moses Moody"
          ],
          [
           "Brandin Podziemski"
          ],
          [
           "Dario Šarić"
          ],
          [
           "Cory Joseph"
          ],
          [
           "Trayce Jackson-Davis"
          ],
          [
           "Gui Santos"
          ]
         ],
         "hoverinfo": "y+text",
         "hovertemplate": "Tm=%{x}<br>Salary=%{y}<br>Player=%{customdata[0]}<extra></extra>",
         "legendgroup": "GSW",
         "marker": {
          "color": [
           "#1d428a",
           "#43587a",
           "#686e6b",
           "#8e845b",
           "#b49b4b",
           "#d9b13c",
           "#ffc72c",
           "#ffc72c",
           "#ffd04f",
           "#ffda72",
           "#ffe395",
           "#ffecb9",
           "#fff6dc",
           "#ffffff"
          ],
          "pattern": {
           "shape": ""
          }
         },
         "name": "GSW",
         "offsetgroup": "GSW",
         "orientation": "v",
         "showlegend": true,
         "textposition": "auto",
         "type": "bar",
         "x": [
          "GSW",
          "GSW",
          "GSW",
          "GSW",
          "GSW",
          "GSW",
          "GSW",
          "GSW",
          "GSW",
          "GSW",
          "GSW",
          "GSW",
          "GSW",
          "GSW"
         ],
         "xaxis": "x",
         "y": [
          51915615,
          43219440,
          30800000,
          24330357,
          22321429,
          8715000,
          7500000,
          6012840,
          3918480,
          3352440,
          2019706,
          2019706,
          1119563,
          1029483
         ],
         "yaxis": "y"
        },
        {
         "alignmentgroup": "True",
         "customdata": [
          [
           "Giannis Antetokounmpo"
          ],
          [
           "Damian Lillard"
          ],
          [
           "Khris Middleton"
          ],
          [
           "Brook Lopez"
          ],
          [
           "Bobby Portis"
          ],
          [
           "Pat Connaughton"
          ],
          [
           "Cameron Payne"
          ],
          [
           "MarJon Beauchamp"
          ],
          [
           "Thanasis Antetokounmpo"
          ],
          [
           "Jae Crowder"
          ],
          [
           "Malik Beasley"
          ],
          [
           "Robin Lopez"
          ],
          [
           "A.J. Green"
          ],
          [
           "Chris Livingston"
          ],
          [
           "Andre Jackson Jr."
          ]
         ],
         "hoverinfo": "y+text",
         "hovertemplate": "Tm=%{x}<br>Salary=%{y}<br>Player=%{customdata[0]}<extra></extra>",
         "legendgroup": "MIL",
         "marker": {
          "color": [
           "#00471b",
           "#286138",
           "#4f7a54",
           "#779471",
           "#9fae8d",
           "#c6c7aa",
           "#c6cfc5",
           "#c6cfc5",
           "#eee1c6",
           "#eee1c6",
           "#f1e7d0",
           "#f7f1e4",
           "#ffffff",
           "#ffffff",
           "#ffffff"
          ],
          "pattern": {
           "shape": ""
          }
         },
         "name": "MIL",
         "offsetgroup": "MIL",
         "orientation": "v",
         "showlegend": true,
         "textposition": "auto",
         "type": "bar",
         "x": [
          "MIL",
          "MIL",
          "MIL",
          "MIL",
          "MIL",
          "MIL",
          "MIL",
          "MIL",
          "MIL",
          "MIL",
          "MIL",
          "MIL",
          "MIL",
          "MIL",
          "MIL"
         ],
         "xaxis": "x",
         "y": [
          45640084,
          45640084,
          29320988,
          25000000,
          11710818,
          9423869,
          8519706,
          2609400,
          2019706,
          2019706,
          2019706,
          2019706,
          1901769,
          1119563,
          1119563
         ],
         "yaxis": "y"
        },
        {
         "alignmentgroup": "True",
         "customdata": [
          [
           "Kevin Durant"
          ],
          [
           "Bradley Beal"
          ],
          [
           "Devin Booker"
          ],
          [
           "Jusuf Nurkić"
          ],
          [
           "Grayson Allen"
          ],
          [
           "Nassir Little"
          ],
          [
           "Eric Gordon"
          ],
          [
           "Josh Okogie"
          ],
          [
           "Keon Johnson"
          ],
          [
           "Damion Lee"
          ],
          [
           "Yuta Watanabe"
          ],
          [
           "Drew Eubanks"
          ],
          [
           "Keita Bates-Diop"
          ],
          [
           "Bol Bol"
          ],
          [
           "Chimezie Metu"
          ],
          [
           "Jordan Goodwin"
          ]
         ],
         "hoverinfo": "y+text",
         "hovertemplate": "Tm=%{x}<br>Salary=%{y}<br>Player=%{customdata[0]}<extra></extra>",
         "legendgroup": "PHO",
         "marker": {
          "color": [
           "#5f259f",
           "#7a3084",
           "#943c6a",
           "#af4750",
           "#ca5235",
           "#e45e1a",
           "#ff6900",
           "#ff6900",
           "#d45800",
           "#aa4600",
           "#803400",
           "#552300",
           "#2a1100",
           "#000000"
          ],
          "pattern": {
           "shape": ""
          }
         },
         "name": "PHO",
         "offsetgroup": "PHO",
         "orientation": "v",
         "showlegend": true,
         "textposition": "auto",
         "type": "bar",
         "x": [
          "PHO",
          "PHO",
          "PHO",
          "PHO",
          "PHO",
          "PHO",
          "PHO",
          "PHO",
          "PHO",
          "PHO",
          "PHO",
          "PHO",
          "PHO",
          "PHO",
          "PHO",
          "PHO"
         ],
         "xaxis": "x",
         "y": [
          47649433,
          46741590,
          36016200,
          16875000,
          8925000,
          6250000,
          3196448,
          2815937,
          2808720,
          2528233,
          2346614,
          2346614,
          2346614,
          2019706,
          2019706,
          1927896
         ],
         "yaxis": "y"
        },
        {
         "alignmentgroup": "True",
         "customdata": [
          [
           "Jrue Holiday"
          ],
          [
           "Kristaps Porziņģis"
          ],
          [
           "Jayson Tatum"
          ],
          [
           "Jaylen Brown"
          ],
          [
           "Derrick White"
          ],
          [
           "Al Horford"
          ],
          [
           "Payton Pritchard"
          ],
          [
           "Lamar Stevens"
          ],
          [
           "Luke Kornet"
          ],
          [
           "Oshae Brissett"
          ],
          [
           "Svi Mykhailiuk"
          ],
          [
           "Dalano Banton"
          ],
          [
           "Sam Hauser"
          ],
          [
           "Jordan Walsh"
          ],
          [
           "Demetrius Jackson"
          ]
         ],
         "hoverinfo": "y+text",
         "hovertemplate": "Tm=%{x}<br>Salary=%{y}<br>Player=%{customdata[0]}<extra></extra>",
         "legendgroup": "BOS",
         "marker": {
          "color": [
           "#007a33",
           "#1f7f38",
           "#3e833e",
           "#5d8843",
           "#7c8d48",
           "#9b914e",
           "#ba9653",
           "#ba9653",
           "#b4864b",
           "#ae7742",
           "#a8673a",
           "#a25732",
           "#9c4829",
           "#963821"
          ],
          "pattern": {
           "shape": ""
          }
         },
         "name": "BOS",
         "offsetgroup": "BOS",
         "orientation": "v",
         "showlegend": true,
         "textposition": "auto",
         "type": "bar",
         "x": [
          "BOS",
          "BOS",
          "BOS",
          "BOS",
          "BOS",
          "BOS",
          "BOS",
          "BOS",
          "BOS",
          "BOS",
          "BOS",
          "BOS",
          "BOS",
          "BOS",
          "BOS"
         ],
         "xaxis": "x",
         "y": [
          36861707,
          36016200,
          32600060,
          31830357,
          18357143,
          10000000,
          4037277,
          2419706,
          2413304,
          2165000,
          2019706,
          2019706,
          1927896,
          1119563,
          92857
         ],
         "yaxis": "y"
        },
        {
         "alignmentgroup": "True",
         "customdata": [
          [
           "Nikola Jokić"
          ],
          [
           "Jamal Murray"
          ],
          [
           "Michael Porter Jr."
          ],
          [
           "Aaron Gordon"
          ],
          [
           "Kentavious Caldwell-Pope"
          ],
          [
           "Reggie Jackson"
          ],
          [
           "Zeke Nnaji"
          ],
          [
           "Christian Braun"
          ],
          [
           "Julian Strawther"
          ],
          [
           "Peyton Watson"
          ],
          [
           "Vlatko Čančar"
          ],
          [
           "Justin Holiday"
          ],
          [
           "DeAndre Jordan"
          ],
          [
           "Jalen Pickett"
          ],
          [
           "Hunter Tyson"
          ]
         ],
         "hoverinfo": "y+text",
         "hovertemplate": "Tm=%{x}<br>Salary=%{y}<br>Player=%{customdata[0]}<extra></extra>",
         "legendgroup": "DEN",
         "marker": {
          "color": [
           "#0E2240",
           "#122b50",
           "#485654",
           "#6c6a4d",
           "#917e45",
           "#b5923e",
           "#d9a737",
           "#fdbb30",
           "#fdbb30",
           "#f4bc45",
           "#ebbc5a",
           "#e2bd6f",
           "#d9be83",
           "#d0bf98",
           "#c7bfad",
           "#c7bfad",
           "#bec0c2",
           "#bec0c2"
          ],
          "pattern": {
           "shape": ""
          }
         },
         "name": "DEN",
         "offsetgroup": "DEN",
         "orientation": "v",
         "showlegend": true,
         "textposition": "auto",
         "type": "bar",
         "x": [
          "DEN",
          "DEN",
          "DEN",
          "DEN",
          "DEN",
          "DEN",
          "DEN",
          "DEN",
          "DEN",
          "DEN",
          "DEN",
          "DEN",
          "DEN",
          "DEN",
          "DEN"
         ],
         "xaxis": "x",
         "y": [
          47607350,
          33833400,
          33386850,
          22266182,
          14704938,
          5000000,
          4306281,
          2949120,
          2431080,
          2303520,
          2234359,
          2019706,
          2019706,
          1708143,
          1119563
         ],
         "yaxis": "y"
        },
        {
         "alignmentgroup": "True",
         "customdata": [
          [
           "Jimmy Butler"
          ],
          [
           "Bam Adebayo"
          ],
          [
           "Tyler Herro"
          ],
          [
           "Terry Rozier"
          ],
          [
           "Duncan Robinson"
          ],
          [
           "Caleb Martin"
          ],
          [
           "Kevin Love"
          ],
          [
           "Jaime Jaquez Jr."
          ],
          [
           "Josh Richardson"
          ],
          [
           "Thomas Bryant"
          ],
          [
           "Nikola Jović"
          ],
          [
           "Haywood Highsmith"
          ],
          [
           "Dru Smith"
          ],
          [
           "Orlando Robinson"
          ]
         ],
         "hoverinfo": "y+text",
         "hovertemplate": "Tm=%{x}<br>Salary=%{y}<br>Player=%{customdata[0]}<extra></extra>",
         "legendgroup": "MIA",
         "marker": {
          "color": [
           "#ce1141",
           "#be103c",
           "#ae0e37",
           "#9e0d32",
           "#8f0c2d",
           "#7f0a28",
           "#6f0923",
           "#5f081e",
           "#4f0719",
           "#3f0514",
           "#30040f",
           "#20030a",
           "#100105",
           "#000000"
          ],
          "pattern": {
           "shape": ""
          }
         },
         "name": "MIA",
         "offsetgroup": "MIA",
         "orientation": "v",
         "showlegend": true,
         "textposition": "auto",
         "type": "bar",
         "x": [
          "MIA",
          "MIA",
          "MIA",
          "MIA",
          "MIA",
          "MIA",
          "MIA",
          "MIA",
          "MIA",
          "MIA",
          "MIA",
          "MIA",
          "MIA",
          "MIA"
         ],
         "xaxis": "x",
         "y": [
          45183960,
          32600060,
          27000000,
          23205221,
          18154000,
          6802950,
          3835738,
          3510600,
          2891467,
          2528233,
          2352000,
          1902137,
          1801769,
          1801769
         ],
         "yaxis": "y"
        },
        {
         "alignmentgroup": "True",
         "customdata": [
          [
           "Joel Embiid"
          ],
          [
           "Tobias Harris"
          ],
          [
           "Marcus Morris"
          ],
          [
           "Nicolas Batum"
          ],
          [
           "Robert Covington"
          ],
          [
           "De'Anthony Melton"
          ],
          [
           "Paul Reed"
          ],
          [
           "Furkan Korkmaz"
          ],
          [
           "Tyrese Maxey"
          ],
          [
           "Danuel House Jr."
          ],
          [
           "Jaden Springer"
          ],
          [
           "Montrezl Harrell"
          ],
          [
           "Kelly Oubre Jr."
          ],
          [
           "Patrick Beverley"
          ],
          [
           "Mo Bamba"
          ],
          [
           "KJ Martin"
          ],
          [
           "Danny Green"
          ]
         ],
         "hoverinfo": "y+text",
         "hovertemplate": "Tm=%{x}<br>Salary=%{y}<br>Player=%{customdata[0]}<extra></extra>",
         "legendgroup": "PHI",
         "marker": {
          "color": [
           "#0060a3",
           "#006bb6",
           "#3b569c",
           "#764181",
           "#b22c66",
           "#ed174c",
           "#ed174c",
           "#b21c50",
           "#762154",
           "#3b2658",
           "#002b5c",
           "#002b5c",
           "#31547a",
           "#627c98",
           "#93a5b6",
           "#c4ced4"
          ],
          "pattern": {
           "shape": ""
          }
         },
         "name": "PHI",
         "offsetgroup": "PHI",
         "orientation": "v",
         "showlegend": true,
         "textposition": "auto",
         "type": "bar",
         "x": [
          "PHI",
          "PHI",
          "PHI",
          "PHI",
          "PHI",
          "PHI",
          "PHI",
          "PHI",
          "PHI",
          "PHI",
          "PHI",
          "PHI",
          "PHI",
          "PHI",
          "PHI",
          "PHI",
          "PHI"
         ],
         "xaxis": "x",
         "y": [
          47607350,
          39270150,
          17116279,
          11710818,
          11692308,
          8000000,
          7723000,
          5370370,
          4343920,
          4310250,
          2226240,
          2019706,
          2019706,
          2019706,
          2019706,
          1930681,
          200000
         ],
         "yaxis": "y"
        },
        {
         "alignmentgroup": "True",
         "customdata": [
          [
           "Zach LaVine"
          ],
          [
           "DeMar DeRozan"
          ],
          [
           "Lonzo Ball"
          ],
          [
           "Nikola Vučević"
          ],
          [
           "Coby White"
          ],
          [
           "Patrick Williams"
          ],
          [
           "Alex Caruso"
          ],
          [
           "Ayo Dosunmu"
          ],
          [
           "Jevon Carter"
          ],
          [
           "Derrick Jones Jr."
          ],
          [
           "Andre Drummond"
          ],
          [
           "Dalen Terry"
          ],
          [
           "Torrey Craig"
          ],
          [
           "Terry Taylor"
          ],
          [
           "Julian Phillips"
          ]
         ],
         "hoverinfo": "y+text",
         "hovertemplate": "Tm=%{x}<br>Salary=%{y}<br>Player=%{customdata[0]}<extra></extra>",
         "legendgroup": "CHI",
         "marker": {
          "color": [
           "#ce1141",
           "#ac0e36",
           "#890b2b",
           "#670820",
           "#450616",
           "#22030b",
           "#000000",
           "#000000",
           "#2a2a2a",
           "#555555",
           "#808080",
           "#aaaaaa",
           "#d4d4d4",
           "#ffffff",
           "#ffffff"
          ],
          "pattern": {
           "shape": ""
          }
         },
         "name": "CHI",
         "offsetgroup": "CHI",
         "orientation": "v",
         "showlegend": true,
         "textposition": "auto",
         "type": "bar",
         "x": [
          "CHI",
          "CHI",
          "CHI",
          "CHI",
          "CHI",
          "CHI",
          "CHI",
          "CHI",
          "CHI",
          "CHI",
          "CHI",
          "CHI",
          "CHI",
          "CHI",
          "CHI"
         ],
         "xaxis": "x",
         "y": [
          40064220,
          28600000,
          20465117,
          18518519,
          11111111,
          9835881,
          9460000,
          6481482,
          6190476,
          5379706,
          3360000,
          3350760,
          2528233,
          2019706,
          1600000
         ],
         "yaxis": "y"
        },
        {
         "alignmentgroup": "True",
         "customdata": [
          [
           "Luka Dončić"
          ],
          [
           "Kyrie Irving"
          ],
          [
           "Tim Hardaway Jr."
          ],
          [
           "Grant Williams"
          ],
          [
           "Richaun Holmes"
          ],
          [
           "Maxi Kleber"
          ],
          [
           "Derrick Jones Jr."
          ],
          [
           "Dereck Lively II"
          ],
          [
           "Josh Green"
          ],
          [
           "JaVale McGee"
          ],
          [
           "Dwight Powell"
          ],
          [
           "Seth Curry"
          ],
          [
           "Dante Exum"
          ],
          [
           "Olivier-Maxence Prosper"
          ],
          [
           "Markieff Morris"
          ],
          [
           "Jaden Hardy"
          ]
         ],
         "hoverinfo": "y+text",
         "hovertemplate": "Tm=%{x}<br>Salary=%{y}<br>Player=%{customdata[0]}<extra></extra>",
         "legendgroup": "DAL",
         "marker": {
          "color": [
           "#00538c",
           "#004c84",
           "#00467d",
           "#003f75",
           "#00386d",
           "#003266",
           "#002b5e",
           "#002b5e",
           "#1f4570",
           "#3d5e82",
           "#5c7894",
           "#7b91a6",
           "#99abb8",
           "#b8c4ca",
           "#ffffff",
           "#ffffff"
          ],
          "pattern": {
           "shape": ""
          }
         },
         "name": "DAL",
         "offsetgroup": "DAL",
         "orientation": "v",
         "showlegend": true,
         "textposition": "auto",
         "type": "bar",
         "x": [
          "DAL",
          "DAL",
          "DAL",
          "DAL",
          "DAL",
          "DAL",
          "DAL",
          "DAL",
          "DAL",
          "DAL",
          "DAL",
          "DAL",
          "DAL",
          "DAL",
          "DAL",
          "DAL"
         ],
         "xaxis": "x",
         "y": [
          40064220,
          37037037,
          17897728,
          12405000,
          12046020,
          11000000,
          5379706,
          4775640,
          4765339,
          4368030,
          4000000,
          4000000,
          3000000,
          2733720,
          2019706,
          1719864
         ],
         "yaxis": "y"
        },
        {
         "alignmentgroup": "True",
         "customdata": [
          [
           "LeBron James"
          ],
          [
           "Anthony Davis"
          ],
          [
           "D'Angelo Russell"
          ],
          [
           "Rui Hachimura"
          ],
          [
           "Austin Reaves"
          ],
          [
           "Gabe Vincent"
          ],
          [
           "Jarred Vanderbilt"
          ],
          [
           "Taurean Prince"
          ],
          [
           "Jalen Hood-Schifino"
          ],
          [
           "Christian Wood"
          ],
          [
           "Cam Reddish"
          ],
          [
           "Jaxson Hayes"
          ],
          [
           "Max Christie"
          ],
          [
           "Maxwell Lewis"
          ]
         ],
         "hoverinfo": "y+text",
         "hovertemplate": "Tm=%{x}<br>Salary=%{y}<br>Player=%{customdata[0]}<extra></extra>",
         "legendgroup": "LAL",
         "marker": {
          "color": [
           "#552583",
           "#61307c",
           "#6d3a76",
           "#79456f",
           "#854f69",
           "#915a62",
           "#9d645c",
           "#a96f55",
           "#b57a4e",
           "#c18448",
           "#cd8f41",
           "#d9993b",
           "#e5a434",
           "#f1ae2e",
           "#fdb927"
          ],
          "pattern": {
           "shape": ""
          }
         },
         "name": "LAL",
         "offsetgroup": "LAL",
         "orientation": "v",
         "showlegend": true,
         "textposition": "auto",
         "type": "bar",
         "x": [
          "LAL",
          "LAL",
          "LAL",
          "LAL",
          "LAL",
          "LAL",
          "LAL",
          "LAL",
          "LAL",
          "LAL",
          "LAL",
          "LAL",
          "LAL",
          "LAL"
         ],
         "xaxis": "x",
         "y": [
          47607350,
          40600080,
          17307693,
          15740741,
          12015150,
          10500000,
          4698000,
          4516000,
          3695040,
          2709849,
          2165000,
          2165000,
          1719864,
          1119563
         ],
         "yaxis": "y"
        },
        {
         "alignmentgroup": "True",
         "customdata": [
          [
           "Rudy Gobert"
          ],
          [
           "Karl-Anthony Towns"
          ],
          [
           "Mike Conley"
          ],
          [
           "Anthony Edwards"
          ],
          [
           "Naz Reid"
          ],
          [
           "Kyle Anderson"
          ],
          [
           "Shake Milton"
          ],
          [
           "Nickeil Alexander-Walker"
          ],
          [
           "Troy Brown Jr."
          ],
          [
           "Jaden McDaniels"
          ],
          [
           "Wendell Moore Jr."
          ],
          [
           "Jordan McLaughlin"
          ],
          [
           "Leonard Miller"
          ],
          [
           "Josh Minott"
          ]
         ],
         "hoverinfo": "y+text",
         "hovertemplate": "Tm=%{x}<br>Salary=%{y}<br>Player=%{customdata[0]}<extra></extra>",
         "legendgroup": "MIN",
         "marker": {
          "color": [
           "#5d76a9",
           "#506697",
           "#445686",
           "#384674",
           "#2b3762",
           "#1f2751",
           "#12173f",
           "#12173f",
           "#222647",
           "#313550",
           "#414458",
           "#515460",
           "#606369",
           "#707271"
          ],
          "pattern": {
           "shape": ""
          }
         },
         "name": "MIN",
         "offsetgroup": "MIN",
         "orientation": "v",
         "showlegend": true,
         "textposition": "auto",
         "type": "bar",
         "x": [
          "MIN",
          "MIN",
          "MIN",
          "MIN",
          "MIN",
          "MIN",
          "MIN",
          "MIN",
          "MIN",
          "MIN",
          "MIN",
          "MIN",
          "MIN",
          "MIN"
         ],
         "xaxis": "x",
         "y": [
          41000000,
          36016200,
          24360000,
          13534817,
          12950400,
          9219512,
          5000000,
          4687500,
          4000000,
          3901399,
          2421720,
          2320000,
          1800000,
          1719864
         ],
         "yaxis": "y"
        },
        {
         "alignmentgroup": "True",
         "customdata": [
          [
           "CJ McCollum"
          ],
          [
           "Zion Williamson"
          ],
          [
           "Brandon Ingram"
          ],
          [
           "Jonas Valančiūnas"
          ],
          [
           "Herbert Jones"
          ],
          [
           "Larry Nance Jr."
          ],
          [
           "Dyson Daniels"
          ],
          [
           "Jordan Hawkins"
          ],
          [
           "Trey Murphy III"
          ],
          [
           "Cody Zeller"
          ],
          [
           "Naji Marshall"
          ],
          [
           "Jose Alvarado"
          ],
          [
           "E.J. Liddell"
          ]
         ],
         "hoverinfo": "y+text",
         "hovertemplate": "Tm=%{x}<br>Salary=%{y}<br>Player=%{customdata[0]}<extra></extra>",
         "legendgroup": "NOP",
         "marker": {
          "color": [
           "#0c2340",
           "#2b203d",
           "#4b1d3a",
           "#6a1a37",
           "#891634",
           "#a91331",
           "#c8102e",
           "#c8102e",
           "#bd2033",
           "#b23038",
           "#a6403d",
           "#9b5143",
           "#906148",
           "#85714d"
          ],
          "pattern": {
           "shape": ""
          }
         },
         "name": "NOP",
         "offsetgroup": "NOP",
         "orientation": "v",
         "showlegend": true,
         "textposition": "auto",
         "type": "bar",
         "x": [
          "NOP",
          "NOP",
          "NOP",
          "NOP",
          "NOP",
          "NOP",
          "NOP",
          "NOP",
          "NOP",
          "NOP",
          "NOP",
          "NOP",
          "NOP"
         ],
         "xaxis": "x",
         "y": [
          35802469,
          34005250,
          33833400,
          15435000,
          12015150,
          10375000,
          5784120,
          4310160,
          3359280,
          2019706,
          1930681,
          1836096,
          1801769
         ],
         "yaxis": "y"
        },
        {
         "alignmentgroup": "True",
         "customdata": [
          [
           "Darius Garland"
          ],
          [
           "Donovan Mitchell"
          ],
          [
           "Jarrett Allen"
          ],
          [
           "Caris LeVert"
          ],
          [
           "Max Strus"
          ],
          [
           "Isaac Okoro"
          ],
          [
           "Evan Mobley"
          ],
          [
           "Georges Niang"
          ],
          [
           "Dean Wade"
          ],
          [
           "Ricky Rubio"
          ],
          [
           "Damian Jones"
          ],
          [
           "Ty Jerome"
          ],
          [
           "Tristan Thompson"
          ],
          [
           "Sam Merrill"
          ]
         ],
         "hoverinfo": "y+text",
         "hovertemplate": "Tm=%{x}<br>Salary=%{y}<br>Player=%{customdata[0]}<extra></extra>",
         "legendgroup": "CLE",
         "marker": {
          "color": [
           "#860038",
           "#70053a",
           "#5b0a3b",
           "#450f3d",
           "#2f143f",
           "#1a1940",
           "#041e42",
           "#041e42",
           "#2e383f",
           "#57523c",
           "#806c39",
           "#aa8736",
           "#d4a133",
           "#fdbb30"
          ],
          "pattern": {
           "shape": ""
          }
         },
         "name": "CLE",
         "offsetgroup": "CLE",
         "orientation": "v",
         "showlegend": true,
         "textposition": "auto",
         "type": "bar",
         "x": [
          "CLE",
          "CLE",
          "CLE",
          "CLE",
          "CLE",
          "CLE",
          "CLE",
          "CLE",
          "CLE",
          "CLE",
          "CLE",
          "CLE",
          "CLE",
          "CLE"
         ],
         "xaxis": "x",
         "y": [
          34005250,
          33162030,
          20000000,
          15384616,
          14487684,
          8920795,
          8882640,
          8800000,
          5709877,
          3695311,
          2586665,
          2439025,
          2019706,
          1997238
         ],
         "yaxis": "y"
        },
        {
         "alignmentgroup": "True",
         "customdata": [
          [
           "Deandre Ayton"
          ],
          [
           "Jerami Grant"
          ],
          [
           "Anfernee Simons"
          ],
          [
           "Malcolm Brogdon"
          ],
          [
           "Robert Williams"
          ],
          [
           "Matisse Thybulle"
          ],
          [
           "Scoot Henderson"
          ],
          [
           "Shaedon Sharpe"
          ],
          [
           "Kris Murray"
          ],
          [
           "Andrew Nicholson"
          ],
          [
           "Moses Brown"
          ],
          [
           "Ish Wainright"
          ],
          [
           "Skylar Mays"
          ],
          [
           "Jabari Walker"
          ],
          [
           "Eric Bledsoe"
          ],
          [
           "Rayan Rupert"
          ],
          [
           "Toumani Camara"
          ],
          [
           "Didi Louzada"
          ]
         ],
         "hoverinfo": "y+text",
         "hovertemplate": "Tm=%{x}<br>Salary=%{y}<br>Player=%{customdata[0]}<extra></extra>",
         "legendgroup": "POR",
         "marker": {
          "color": [
           "#e03a3e",
           "#cc3538",
           "#b72f33",
           "#a32a2d",
           "#8f2527",
           "#7a2022",
           "#661a1c",
           "#511517",
           "#3d1011",
           "#290b0b",
           "#140506",
           "#000000"
          ],
          "pattern": {
           "shape": ""
          }
         },
         "name": "POR",
         "offsetgroup": "POR",
         "orientation": "v",
         "showlegend": true,
         "textposition": "auto",
         "type": "bar",
         "x": [
          "POR",
          "POR",
          "POR",
          "POR",
          "POR",
          "POR",
          "POR",
          "POR",
          "POR",
          "POR",
          "POR",
          "POR",
          "POR",
          "POR",
          "POR",
          "POR",
          "POR",
          "POR"
         ],
         "xaxis": "x",
         "y": [
          32459438,
          27586207,
          24107143,
          22500000,
          11571429,
          10500000,
          9770880,
          6313800,
          2847480,
          2844430,
          2019706,
          1927896,
          1799163,
          1719864,
          1300000,
          1119563,
          1119563,
          268032
         ],
         "yaxis": "y"
        },
        {
         "alignmentgroup": "True",
         "customdata": [
          [
           "Fred VanVleet"
          ],
          [
           "Dillon Brooks"
          ],
          [
           "Reggie Bullock"
          ],
          [
           "Jalen Green"
          ],
          [
           "Jeff Green"
          ],
          [
           "Victor Oladipo"
          ],
          [
           "Jabari Smith Jr."
          ],
          [
           "Amen Thompson"
          ],
          [
           "Jock Landale"
          ],
          [
           "John Wall"
          ],
          [
           "Jae'Sean Tate"
          ],
          [
           "Alperen Şengün"
          ],
          [
           "Tari Eason"
          ],
          [
           "Cam Whitmore"
          ],
          [
           "Boban Marjanović"
          ],
          [
           "Aaron Holiday"
          ],
          [
           "Jeremiah Robinson-Earl"
          ]
         ],
         "hoverinfo": "y+text",
         "hovertemplate": "Tm=%{x}<br>Salary=%{y}<br>Player=%{customdata[0]}<extra></extra>",
         "legendgroup": "HOU",
         "marker": {
          "color": [
           "#ce1141",
           "#b10f38",
           "#930c2e",
           "#760a25",
           "#58071c",
           "#3b0513",
           "#1d0209",
           "#000000",
           "#000000",
           "#1c1d1e",
           "#383b3d",
           "#54585b",
           "#707679",
           "#8c9397",
           "#a8b1b6",
           "#c4ced4",
           "#ffffff"
          ],
          "pattern": {
           "shape": ""
          }
         },
         "name": "HOU",
         "offsetgroup": "HOU",
         "orientation": "v",
         "showlegend": true,
         "textposition": "auto",
         "type": "bar",
         "x": [
          "HOU",
          "HOU",
          "HOU",
          "HOU",
          "HOU",
          "HOU",
          "HOU",
          "HOU",
          "HOU",
          "HOU",
          "HOU",
          "HOU",
          "HOU",
          "HOU",
          "HOU",
          "HOU",
          "HOU"
         ],
         "xaxis": "x",
         "y": [
          40806300,
          22627671,
          13033786,
          9891480,
          9600000,
          9450000,
          9326520,
          8809320,
          8000000,
          6802950,
          6500000,
          3536280,
          3527160,
          3218160,
          2019706,
          2019706,
          1900000
         ],
         "yaxis": "y"
        },
        {
         "alignmentgroup": "True",
         "customdata": [
          [
           "Julius Randle"
          ],
          [
           "Jalen Brunson"
          ],
          [
           "Evan Fournier"
          ],
          [
           "OG Anunoby"
          ],
          [
           "Mitchell Robinson"
          ],
          [
           "Josh Hart"
          ],
          [
           "Donte DiVincenzo"
          ],
          [
           "Isaiah Hartenstein"
          ],
          [
           "Precious Achiuwa"
          ],
          [
           "Malachi Flynn"
          ],
          [
           "Quentin Grimes"
          ],
          [
           "Dylan Windler"
          ],
          [
           "Ryan Arcidiacono"
          ],
          [
           "Jericho Sims"
          ],
          [
           "Miles McBride"
          ],
          [
           "DaQuan Jeffries"
          ]
         ],
         "hoverinfo": "y+text",
         "hovertemplate": "Tm=%{x}<br>Salary=%{y}<br>Player=%{customdata[0]}<extra></extra>",
         "legendgroup": "NYK",
         "marker": {
          "color": [
           "#006bb6",
           "#136dab",
           "#266fa0",
           "#397195",
           "#4b738a",
           "#5e757f",
           "#717774",
           "#847868",
           "#977a5d",
           "#aa7c52",
           "#bc7e47",
           "#cf803c",
           "#e28231",
           "#f58426",
           "#f8a45e",
           "#fcd9bc"
          ],
          "pattern": {
           "shape": ""
          }
         },
         "name": "NYK",
         "offsetgroup": "NYK",
         "orientation": "v",
         "showlegend": true,
         "textposition": "auto",
         "type": "bar",
         "x": [
          "NYK",
          "NYK",
          "NYK",
          "NYK",
          "NYK",
          "NYK",
          "NYK",
          "NYK",
          "NYK",
          "NYK",
          "NYK",
          "NYK",
          "NYK",
          "NYK",
          "NYK",
          "NYK"
         ],
         "xaxis": "x",
         "y": [
          28226880,
          26346666,
          18857143,
          18642857,
          15681818,
          12960000,
          10900000,
          9245121,
          4379527,
          3873025,
          2385720,
          2019706,
          2019706,
          1927896,
          1836096,
          831385
         ],
         "yaxis": "y"
        },
        {
         "alignmentgroup": "True",
         "customdata": [
          [
           "Ben Simmons"
          ],
          [
           "Cameron Johnson"
          ],
          [
           "Mikal Bridges"
          ],
          [
           "Spencer Dinwiddie"
          ],
          [
           "Dorian Finney-Smith"
          ],
          [
           "Nic Claxton"
          ],
          [
           "Royce O'Neale"
          ],
          [
           "Noah Clowney"
          ],
          [
           "Dariq Whitehead"
          ],
          [
           "Cam Thomas"
          ],
          [
           "Day'Ron Sharpe"
          ],
          [
           "Lonnie Walker IV"
          ],
          [
           "Dennis Smith Jr."
          ],
          [
           "Trendon Watford"
          ],
          [
           "Harry Giles"
          ]
         ],
         "hoverinfo": "y+text",
         "hovertemplate": "Tm=%{x}<br>Salary=%{y}<br>Player=%{customdata[0]}<extra></extra>",
         "legendgroup": "BRK",
         "marker": {
          "color": [
           "#ffffff",
           "#efefef",
           "#dfdfdf",
           "#cfcfcf",
           "#bfbfbf",
           "#afafaf",
           "#9f9f9f",
           "#8f8f8f",
           "#808080",
           "#707070",
           "#606060",
           "#505050",
           "#404040",
           "#303030",
           "#202020",
           "#101010",
           "#000000"
          ],
          "pattern": {
           "shape": ""
          }
         },
         "name": "BRK",
         "offsetgroup": "BRK",
         "orientation": "v",
         "showlegend": true,
         "textposition": "auto",
         "type": "bar",
         "x": [
          "BRK",
          "BRK",
          "BRK",
          "BRK",
          "BRK",
          "BRK",
          "BRK",
          "BRK",
          "BRK",
          "BRK",
          "BRK",
          "BRK",
          "BRK",
          "BRK",
          "BRK"
         ],
         "xaxis": "x",
         "y": [
          37893408,
          25679348,
          21700000,
          20357143,
          13932008,
          9625000,
          9500000,
          3089520,
          2966040,
          2240160,
          2210040,
          2019706,
          2019706,
          2019706,
          2019706
         ],
         "yaxis": "y"
        },
        {
         "alignmentgroup": "True",
         "customdata": [
          [
           "Ja Morant"
          ],
          [
           "Jaren Jackson Jr."
          ],
          [
           "Marcus Smart"
          ],
          [
           "Luke Kennard"
          ],
          [
           "Steven Adams"
          ],
          [
           "Brandon Clarke"
          ],
          [
           "Bismack Biyombo"
          ],
          [
           "Ziaire Williams"
          ],
          [
           "Desmond Bane"
          ],
          [
           "Jake LaRavia"
          ],
          [
           "Derrick Rose"
          ],
          [
           "David Roddy"
          ],
          [
           "Josh Christopher"
          ],
          [
           "John Konchar"
          ],
          [
           "Santi Aldama"
          ],
          [
           "Xavier Tillman Sr."
          ],
          [
           "Isaiah Todd"
          ],
          [
           "Kennedy Chandler"
          ],
          [
           "Kenneth Lofton Jr."
          ]
         ],
         "hoverinfo": "y+text",
         "hovertemplate": "Tm=%{x}<br>Salary=%{y}<br>Player=%{customdata[0]}<extra></extra>",
         "legendgroup": "MEM",
         "marker": {
          "color": [
           "#0e1130",
           "#12173f",
           "#171d46",
           "#1b234c",
           "#202953",
           "#252f5a",
           "#293560",
           "#2e3b67",
           "#33416d",
           "#374674",
           "#3c4c7b",
           "#415281",
           "#465888",
           "#4a5e8e",
           "#4f6495",
           "#546a9c",
           "#5870a2",
           "#5d76a9",
           "#b7c2d9"
          ],
          "pattern": {
           "shape": ""
          }
         },
         "name": "MEM",
         "offsetgroup": "MEM",
         "orientation": "v",
         "showlegend": true,
         "textposition": "auto",
         "type": "bar",
         "x": [
          "MEM",
          "MEM",
          "MEM",
          "MEM",
          "MEM",
          "MEM",
          "MEM",
          "MEM",
          "MEM",
          "MEM",
          "MEM",
          "MEM",
          "MEM",
          "MEM",
          "MEM",
          "MEM",
          "MEM",
          "MEM",
          "MEM"
         ],
         "xaxis": "x",
         "y": [
          34005250,
          27102202,
          18833713,
          14763636,
          12600000,
          12500000,
          5000000,
          4810200,
          3845083,
          3199920,
          3196448,
          2718240,
          2485200,
          2400000,
          2194200,
          1930681,
          1836096,
          1719864,
          1719864
         ],
         "yaxis": "y"
        },
        {
         "alignmentgroup": "True",
         "customdata": [
          [
           "RJ Barrett"
          ],
          [
           "Bruce Brown"
          ],
          [
           "Jakob Poeltl"
          ],
          [
           "Gary Trent Jr."
          ],
          [
           "Dennis Schröder"
          ],
          [
           "Chris Boucher"
          ],
          [
           "Scottie Barnes"
          ],
          [
           "Thaddeus Young"
          ],
          [
           "Otto Porter Jr."
          ],
          [
           "Kira Lewis Jr."
          ],
          [
           "Gradey Dick"
          ],
          [
           "Jalen McDaniels"
          ],
          [
           "Immanuel Quickley"
          ],
          [
           "Jordan Nwora"
          ],
          [
           "Garrett Temple"
          ],
          [
           "Christian Koloko"
          ]
         ],
         "hoverinfo": "y+text",
         "hovertemplate": "Tm=%{x}<br>Salary=%{y}<br>Player=%{customdata[0]}<extra></extra>",
         "legendgroup": "TOR",
         "marker": {
          "color": [
           "#ce1141",
           "#ac0e36",
           "#890b2b",
           "#670820",
           "#450616",
           "#22030b",
           "#000000",
           "#000000",
           "#1b1b1b",
           "#363637",
           "#505052",
           "#6b6b6d",
           "#868689",
           "#a1a1a4"
          ],
          "pattern": {
           "shape": ""
          }
         },
         "name": "TOR",
         "offsetgroup": "TOR",
         "orientation": "v",
         "showlegend": true,
         "textposition": "auto",
         "type": "bar",
         "x": [
          "TOR",
          "TOR",
          "TOR",
          "TOR",
          "TOR",
          "TOR",
          "TOR",
          "TOR",
          "TOR",
          "TOR",
          "TOR",
          "TOR",
          "TOR",
          "TOR",
          "TOR",
          "TOR"
         ],
         "xaxis": "x",
         "y": [
          23883929,
          22000000,
          19500000,
          18560000,
          12405000,
          11750000,
          8008680,
          8000000,
          6300000,
          5722116,
          4536720,
          4516000,
          4171548,
          3000000,
          2019706,
          1719864
         ],
         "yaxis": "y"
        },
        {
         "alignmentgroup": "True",
         "customdata": [
          [
           "Trae Young"
          ],
          [
           "Clint Capela"
          ],
          [
           "De'Andre Hunter"
          ],
          [
           "Bogdan Bogdanović"
          ],
          [
           "Dejounte Murray"
          ],
          [
           "Onyeka Okongwu"
          ],
          [
           "Patty Mills"
          ],
          [
           "Saddiq Bey"
          ],
          [
           "Kobe Bufkin"
          ],
          [
           "AJ Griffin"
          ],
          [
           "Jalen Johnson"
          ],
          [
           "Bruno Fernando"
          ],
          [
           "Wesley Matthews"
          ],
          [
           "Garrison Mathews"
          ],
          [
           "Mouhamed Gueye"
          ]
         ],
         "hoverinfo": "y+text",
         "hovertemplate": "Tm=%{x}<br>Salary=%{y}<br>Player=%{customdata[0]}<extra></extra>",
         "legendgroup": "ATL",
         "marker": {
          "color": [
           "#c8102e",
           "#d12c2d",
           "#da482c",
           "#e2642b",
           "#eb8129",
           "#f49d28",
           "#fdb927",
           "#fdb927",
           "#edb53c",
           "#ddb150",
           "#ceae64",
           "#beaa79",
           "#aea68e",
           "#C4C7C7",
           "#ffffff"
          ],
          "pattern": {
           "shape": ""
          }
         },
         "name": "ATL",
         "offsetgroup": "ATL",
         "orientation": "v",
         "showlegend": true,
         "textposition": "auto",
         "type": "bar",
         "x": [
          "ATL",
          "ATL",
          "ATL",
          "ATL",
          "ATL",
          "ATL",
          "ATL",
          "ATL",
          "ATL",
          "ATL",
          "ATL",
          "ATL",
          "ATL",
          "ATL",
          "ATL"
         ],
         "xaxis": "x",
         "y": [
          40064220,
          20616000,
          20089286,
          18700000,
          18214000,
          8109063,
          6802950,
          4556983,
          4094280,
          3712920,
          2925360,
          2581522,
          2019706,
          2000000,
          1119563
         ],
         "yaxis": "y"
        },
        {
         "alignmentgroup": "True",
         "customdata": [
          [
           "De'Aaron Fox"
          ],
          [
           "Domantas Sabonis"
          ],
          [
           "Harrison Barnes"
          ],
          [
           "Kevin Huerter"
          ],
          [
           "Malik Monk"
          ],
          [
           "Keegan Murray"
          ],
          [
           "Trey Lyles"
          ],
          [
           "Sasha Vezenkov"
          ],
          [
           "Davion Mitchell"
          ],
          [
           "JaVale McGee"
          ],
          [
           "Chris Duarte"
          ],
          [
           "Alex Len"
          ],
          [
           "Colby Jones"
          ],
          [
           "Kessler Edwards"
          ],
          [
           "Filip Petrušev"
          ],
          [
           "Nerlens Noel"
          ],
          [
           "Neemias Queta"
          ]
         ],
         "hoverinfo": "y+text",
         "hovertemplate": "Tm=%{x}<br>Salary=%{y}<br>Player=%{customdata[0]}<extra></extra>",
         "legendgroup": "SAC",
         "marker": {
          "color": [
           "#5a2d81",
           "#5b3181",
           "#5b3680",
           "#5c3a80",
           "#5c3e7f",
           "#5d437f",
           "#5d477e",
           "#5e4b7e",
           "#5e507e",
           "#5f547d",
           "#60587d",
           "#605c7c",
           "#61617c",
           "#61657b",
           "#62697b",
           "#626e7a",
           "#63727a"
          ],
          "pattern": {
           "shape": ""
          }
         },
         "name": "SAC",
         "offsetgroup": "SAC",
         "orientation": "v",
         "showlegend": true,
         "textposition": "auto",
         "type": "bar",
         "x": [
          "SAC",
          "SAC",
          "SAC",
          "SAC",
          "SAC",
          "SAC",
          "SAC",
          "SAC",
          "SAC",
          "SAC",
          "SAC",
          "SAC",
          "SAC",
          "SAC",
          "SAC",
          "SAC",
          "SAC"
         ],
         "xaxis": "x",
         "y": [
          32600060,
          30600000,
          17000000,
          15669643,
          9945830,
          8409000,
          8000000,
          6341464,
          5063640,
          4368030,
          4124400,
          2019706,
          2019706,
          1927896,
          559782,
          300000,
          250000
         ],
         "yaxis": "y"
        },
        {
         "alignmentgroup": "True",
         "customdata": [
          [
           "Shai Gilgeous-Alexander"
          ],
          [
           "Dāvis Bertāns"
          ],
          [
           "Kevin Porter Jr."
          ],
          [
           "Luguentz Dort"
          ],
          [
           "Chet Holmgren"
          ],
          [
           "Vasilije Micić"
          ],
          [
           "Josh Giddey"
          ],
          [
           "Kenrich Williams"
          ],
          [
           "Cason Wallace"
          ],
          [
           "Aleksej Pokusevski"
          ],
          [
           "Ousmane Dieng"
          ],
          [
           "Jalen Williams"
          ],
          [
           "Tre Mann"
          ],
          [
           "Usman Garuba"
          ],
          [
           "TyTy Washington Jr."
          ],
          [
           "Jaylin Williams"
          ],
          [
           "Isaiah Joe"
          ],
          [
           "Aaron Wiggins"
          ],
          [
           "Jack White"
          ],
          [
           "Rudy Gay"
          ]
         ],
         "hoverinfo": "y+text",
         "hovertemplate": "Tm=%{x}<br>Salary=%{y}<br>Player=%{customdata[0]}<extra></extra>",
         "legendgroup": "OKC",
         "marker": {
          "color": [
           "#007ac1",
           "#2271ab",
           "#446894",
           "#665f7e",
           "#895667",
           "#ab4d51",
           "#cd443a",
           "#ef3b24",
           "#ef3b24",
           "#cd392d",
           "#ab3736",
           "#89353f",
           "#663347",
           "#443150",
           "#222f59",
           "#002d62",
           "#00244e",
           "#001b3b"
          ],
          "pattern": {
           "shape": ""
          }
         },
         "name": "OKC",
         "offsetgroup": "OKC",
         "orientation": "v",
         "showlegend": true,
         "textposition": "auto",
         "type": "bar",
         "x": [
          "OKC",
          "OKC",
          "OKC",
          "OKC",
          "OKC",
          "OKC",
          "OKC",
          "OKC",
          "OKC",
          "OKC",
          "OKC",
          "OKC",
          "OKC",
          "OKC",
          "OKC",
          "OKC",
          "OKC",
          "OKC",
          "OKC",
          "OKC"
         ],
         "xaxis": "x",
         "y": [
          33386850,
          17000000,
          15860000,
          15277778,
          10386000,
          7723000,
          6587040,
          6175000,
          5291400,
          5009633,
          4798440,
          4558680,
          3191400,
          2588400,
          2320440,
          2000000,
          1997238,
          1836096,
          600000,
          null
         ],
         "yaxis": "y"
        },
        {
         "alignmentgroup": "True",
         "customdata": [
          [
           "Keldon Johnson"
          ],
          [
           "Doug McDermott"
          ],
          [
           "Reggie Bullock"
          ],
          [
           "Victor Wembanyama"
          ],
          [
           "Devonte' Graham"
          ],
          [
           "Tre Jones"
          ],
          [
           "Cameron Payne"
          ],
          [
           "Zach Collins"
          ],
          [
           "Khem Birch"
          ],
          [
           "Cedi Osman"
          ],
          [
           "Joshua Primo"
          ],
          [
           "Devin Vassell"
          ],
          [
           "Jeremy Sochan"
          ],
          [
           "Malaki Branham"
          ],
          [
           "Julian Champagnie"
          ],
          [
           "Charles Bassey"
          ],
          [
           "Blake Wesley"
          ],
          [
           "Lamar Stevens"
          ],
          [
           "Sandro Mamukelashvili"
          ],
          [
           "Sidy Cissoko"
          ]
         ],
         "hoverinfo": "y+text",
         "hovertemplate": "Tm=%{x}<br>Salary=%{y}<br>Player=%{customdata[0]}<extra></extra>",
         "legendgroup": "SAS",
         "marker": {
          "color": [
           "#c4ced4",
           "#b8c2c8",
           "#adb6bb",
           "#a1aaaf",
           "#969ea2",
           "#8a9196",
           "#7f8589",
           "#73797d",
           "#686d70",
           "#5c6164",
           "#515557",
           "#45494b",
           "#3a3d3e",
           "#2e3032",
           "#232425",
           "#171819",
           "#0c0c0c",
           "#000000"
          ],
          "pattern": {
           "shape": ""
          }
         },
         "name": "SAS",
         "offsetgroup": "SAS",
         "orientation": "v",
         "showlegend": true,
         "textposition": "auto",
         "type": "bar",
         "x": [
          "SAS",
          "SAS",
          "SAS",
          "SAS",
          "SAS",
          "SAS",
          "SAS",
          "SAS",
          "SAS",
          "SAS",
          "SAS",
          "SAS",
          "SAS",
          "SAS",
          "SAS",
          "SAS",
          "SAS",
          "SAS",
          "SAS",
          "SAS"
         ],
         "xaxis": "x",
         "y": [
          20000000,
          13750000,
          13033786,
          12160680,
          12100000,
          9895833,
          8519706,
          7700000,
          6985000,
          6718842,
          6105941,
          5887899,
          5316960,
          3071880,
          3000000,
          2600000,
          2504640,
          2419706,
          2019706,
          1119563
         ],
         "yaxis": "y"
        },
        {
         "alignmentgroup": "True",
         "customdata": [
          [
           "Jordan Poole"
          ],
          [
           "Kyle Kuzma"
          ],
          [
           "Tyus Jones"
          ],
          [
           "Marvin Bagley III"
          ],
          [
           "Daniel Gafford"
          ],
          [
           "Landry Shamet"
          ],
          [
           "Delon Wright"
          ],
          [
           "Bilal Coulibaly"
          ],
          [
           "Deni Avdija"
          ],
          [
           "Johnny Davis"
          ],
          [
           "Corey Kispert"
          ],
          [
           "Patrick Baldwin Jr."
          ],
          [
           "Taj Gibson"
          ],
          [
           "Anthony Gill"
          ],
          [
           "Isaiah Livers"
          ],
          [
           "Ryan Rollins"
          ],
          [
           "Xavier Cooks"
          ]
         ],
         "hoverinfo": "y+text",
         "hovertemplate": "Tm=%{x}<br>Salary=%{y}<br>Player=%{customdata[0]}<extra></extra>",
         "legendgroup": "WAS",
         "marker": {
          "color": [
           "#e31837",
           "#bd1b3d",
           "#971e43",
           "#72224a",
           "#4c2550",
           "#262856",
           "#002b5c",
           "#002b5c",
           "#214670",
           "#416184",
           "#627c98",
           "#8398ac",
           "#a3b3c0",
           "#c4ced4",
           "#c4ced4",
           "#ffffff",
           "#ffffff"
          ],
          "pattern": {
           "shape": ""
          }
         },
         "name": "WAS",
         "offsetgroup": "WAS",
         "orientation": "v",
         "showlegend": true,
         "textposition": "auto",
         "type": "bar",
         "x": [
          "WAS",
          "WAS",
          "WAS",
          "WAS",
          "WAS",
          "WAS",
          "WAS",
          "WAS",
          "WAS",
          "WAS",
          "WAS",
          "WAS",
          "WAS",
          "WAS",
          "WAS",
          "WAS",
          "WAS"
         ],
         "xaxis": "x",
         "y": [
          27455357,
          25568182,
          14000000,
          12500000,
          12402000,
          10250000,
          8195122,
          6614280,
          6263188,
          5050800,
          3722040,
          2337720,
          2019706,
          1997238,
          1836096,
          1719864,
          1719864
         ],
         "yaxis": "y"
        },
        {
         "alignmentgroup": "True",
         "customdata": [
          [
           "Gordon Hayward"
          ],
          [
           "Kyle Lowry"
          ],
          [
           "P.J. Washington"
          ],
          [
           "LaMelo Ball"
          ],
          [
           "Brandon Miller"
          ],
          [
           "Miles Bridges"
          ],
          [
           "Cody Martin"
          ],
          [
           "Nick Richards"
          ],
          [
           "James Bouknight"
          ],
          [
           "Mark Williams"
          ],
          [
           "Kai Jones"
          ],
          [
           "Nick Smith Jr."
          ],
          [
           "Ish Smith"
          ],
          [
           "Frank Ntilikina"
          ],
          [
           "JT Thor"
          ],
          [
           "Bryce McGowens"
          ]
         ],
         "hoverinfo": "y+text",
         "hovertemplate": "Tm=%{x}<br>Salary=%{y}<br>Player=%{customdata[0]}<extra></extra>",
         "legendgroup": "CHO",
         "marker": {
          "color": [
           "#1d1160",
           "#192066",
           "#152e6d",
           "#113d73",
           "#0c4c79",
           "#085b7f",
           "#046986",
           "#00788c",
           "#00788c",
           "#177e8f",
           "#2e8493",
           "#458a96",
           "#5c8f9a",
           "#73959d",
           "#8a9ba1",
           "#a1a1a4"
          ],
          "pattern": {
           "shape": ""
          }
         },
         "name": "CHO",
         "offsetgroup": "CHO",
         "orientation": "v",
         "showlegend": true,
         "textposition": "auto",
         "type": "bar",
         "x": [
          "CHO",
          "CHO",
          "CHO",
          "CHO",
          "CHO",
          "CHO",
          "CHO",
          "CHO",
          "CHO",
          "CHO",
          "CHO",
          "CHO",
          "CHO",
          "CHO",
          "CHO",
          "CHO"
         ],
         "xaxis": "x",
         "y": [
          31500000,
          29682540,
          16847826,
          10900635,
          10880400,
          7921300,
          7560000,
          5000000,
          4570080,
          3908160,
          3047880,
          2463960,
          2019706,
          2019706,
          1836096,
          1719864
         ],
         "yaxis": "y"
        },
        {
         "alignmentgroup": "True",
         "customdata": [
          [
           "Pascal Siakam"
          ],
          [
           "Myles Turner"
          ],
          [
           "Buddy Hield"
          ],
          [
           "T.J. McConnell"
          ],
          [
           "Daniel Theis"
          ],
          [
           "Bennedict Mathurin"
          ],
          [
           "Obi Toppin"
          ],
          [
           "Jarace Walker"
          ],
          [
           "Tyrese Haliburton"
          ],
          [
           "Aaron Nesmith"
          ],
          [
           "Jalen Smith"
          ],
          [
           "Isaiah Jackson"
          ],
          [
           "Ben Sheppard"
          ],
          [
           "Andrew Nembhard"
          ],
          [
           "Nik Stauskas"
          ],
          [
           "Juwan Morgan"
          ],
          [
           "Malik Fitts"
          ]
         ],
         "hoverinfo": "y+text",
         "hovertemplate": "Tm=%{x}<br>Salary=%{y}<br>Player=%{customdata[0]}<extra></extra>",
         "legendgroup": "IND",
         "marker": {
          "color": [
           "#002d62",
           "#24415b",
           "#485654",
           "#6c6a4d",
           "#917e45",
           "#b5923e",
           "#d9a737",
           "#fdbb30",
           "#fdbb30",
           "#f4bc45",
           "#ebbc5a",
           "#e2bd6f",
           "#d9be83",
           "#d0bf98",
           "#c7bfad",
           "#c7bfad",
           "#bec0c2",
           "#bec0c2"
          ],
          "pattern": {
           "shape": ""
          }
         },
         "name": "IND",
         "offsetgroup": "IND",
         "orientation": "v",
         "showlegend": true,
         "textposition": "auto",
         "type": "bar",
         "x": [
          "IND",
          "IND",
          "IND",
          "IND",
          "IND",
          "IND",
          "IND",
          "IND",
          "IND",
          "IND",
          "IND",
          "IND",
          "IND",
          "IND",
          "IND",
          "IND",
          "IND"
         ],
         "xaxis": "x",
         "y": [
          37893408,
          20975000,
          19279841,
          8700000,
          8670002,
          6916080,
          6803012,
          6059520,
          5808435,
          5634257,
          5043773,
          2696280,
          2537160,
          2131905,
          702311,
          576230,
          555217
         ],
         "yaxis": "y"
        },
        {
         "alignmentgroup": "True",
         "customdata": [
          [
           "John Collins"
          ],
          [
           "Jordan Clarkson"
          ],
          [
           "Collin Sexton"
          ],
          [
           "Lauri Markkanen"
          ],
          [
           "Kelly Olynyk"
          ],
          [
           "Talen Horton-Tucker"
          ],
          [
           "Taylor Hendricks"
          ],
          [
           "Ochai Agbaji"
          ],
          [
           "Keyonte George"
          ],
          [
           "Simone Fontecchio"
          ],
          [
           "Walker Kessler"
          ],
          [
           "Omer Yurtseven"
          ],
          [
           "Kris Dunn"
          ],
          [
           "Brice Sensabaugh"
          ],
          [
           "Luka Šamanić"
          ]
         ],
         "hoverinfo": "y+text",
         "hovertemplate": "Tm=%{x}<br>Salary=%{y}<br>Player=%{customdata[0]}<extra></extra>",
         "legendgroup": "UTA",
         "marker": {
          "color": [
           "#002b5c",
           "#002e55",
           "#00314e",
           "#003446",
           "#00373f",
           "#003b38",
           "#003e31",
           "#004129",
           "#004422",
           "#00471b",
           "#00471b",
           "#1c511b",
           "#375b1b",
           "#53651b",
           "#6f6f1b",
           "#8a781b",
           "#a6821b",
           "#c28c1b",
           "#dd961b",
           "#f9a01b"
          ],
          "pattern": {
           "shape": ""
          }
         },
         "name": "UTA",
         "offsetgroup": "UTA",
         "orientation": "v",
         "showlegend": true,
         "textposition": "auto",
         "type": "bar",
         "x": [
          "UTA",
          "UTA",
          "UTA",
          "UTA",
          "UTA",
          "UTA",
          "UTA",
          "UTA",
          "UTA",
          "UTA",
          "UTA",
          "UTA",
          "UTA",
          "UTA",
          "UTA"
         ],
         "xaxis": "x",
         "y": [
          25340000,
          23487629,
          17325000,
          17259999,
          12195122,
          11020000,
          5569920,
          4114200,
          3889800,
          3044872,
          2831160,
          2800000,
          2586665,
          2448600,
          2066585
         ],
         "yaxis": "y"
        },
        {
         "alignmentgroup": "True",
         "customdata": [
          [
           "Bojan Bogdanović"
          ],
          [
           "Joe Harris"
          ],
          [
           "James Wiseman"
          ],
          [
           "Cade Cunningham"
          ],
          [
           "Alec Burks"
          ],
          [
           "Monte Morris"
          ],
          [
           "Ausar Thompson"
          ],
          [
           "Jaden Ivey"
          ],
          [
           "Killian Hayes"
          ],
          [
           "Danilo Gallinari"
          ],
          [
           "Isaiah Stewart"
          ],
          [
           "Jalen Duren"
          ],
          [
           "Mike Muscala"
          ],
          [
           "Dewayne Dedmon"
          ],
          [
           "Marcus Sasser"
          ],
          [
           "Kevin Knox"
          ]
         ],
         "hoverinfo": "y+text",
         "hovertemplate": "Tm=%{x}<br>Salary=%{y}<br>Player=%{customdata[0]}<extra></extra>",
         "legendgroup": "DET",
         "marker": {
          "color": [
           "#c8102e",
           "#a61a4a",
           "#842466",
           "#612e82",
           "#3f389e",
           "#1d42ba",
           "#1d42ba",
           "#3d5bbc",
           "#5d74bd",
           "#7e8ebf",
           "#9ea7c0",
           "#bec0c2",
           "#bec0c2",
           "#98a3af",
           "#72859c",
           "#4c6888",
           "#264a75",
           "#002d62"
          ],
          "pattern": {
           "shape": ""
          }
         },
         "name": "DET",
         "offsetgroup": "DET",
         "orientation": "v",
         "showlegend": true,
         "textposition": "auto",
         "type": "bar",
         "x": [
          "DET",
          "DET",
          "DET",
          "DET",
          "DET",
          "DET",
          "DET",
          "DET",
          "DET",
          "DET",
          "DET",
          "DET",
          "DET",
          "DET",
          "DET",
          "DET"
         ],
         "xaxis": "x",
         "y": [
          20000000,
          19928571,
          12119440,
          11055360,
          10489600,
          9800926,
          7977480,
          7614480,
          7413955,
          6802950,
          5266713,
          4330680,
          3500000,
          2748674,
          2624040,
          1845593
         ],
         "yaxis": "y"
        },
        {
         "alignmentgroup": "True",
         "customdata": [
          [
           "Jonathan Isaac"
          ],
          [
           "Markelle Fultz"
          ],
          [
           "Wendell Carter Jr."
          ],
          [
           "Gary Harris"
          ],
          [
           "Paolo Banchero"
          ],
          [
           "Joe Ingles"
          ],
          [
           "Moritz Wagner"
          ],
          [
           "Jalen Suggs"
          ],
          [
           "Anthony Black"
          ],
          [
           "Cole Anthony"
          ],
          [
           "Franz Wagner"
          ],
          [
           "Chuma Okeke"
          ],
          [
           "Jett Howard"
          ],
          [
           "Goga Bitadze"
          ],
          [
           "Caleb Houstan"
          ]
         ],
         "hoverinfo": "y+text",
         "hovertemplate": "Tm=%{x}<br>Salary=%{y}<br>Player=%{customdata[0]}<extra></extra>",
         "legendgroup": "ORL",
         "marker": {
          "color": [
           "#0077c0",
           "#1c83c3",
           "#3890c6",
           "#549cc9",
           "#70a9cb",
           "#8cb5ce",
           "#a8c2d1",
           "#c4ced4",
           "#c4ced4",
           "#a8b1b6",
           "#8c9397",
           "#707679",
           "#54585b",
           "#383b3d",
           "#1c1d1e",
           "#000000"
          ],
          "pattern": {
           "shape": ""
          }
         },
         "name": "ORL",
         "offsetgroup": "ORL",
         "orientation": "v",
         "showlegend": true,
         "textposition": "auto",
         "type": "bar",
         "x": [
          "ORL",
          "ORL",
          "ORL",
          "ORL",
          "ORL",
          "ORL",
          "ORL",
          "ORL",
          "ORL",
          "ORL",
          "ORL",
          "ORL",
          "ORL",
          "ORL",
          "ORL"
         ],
         "xaxis": "x",
         "y": [
          17400000,
          17000000,
          13050000,
          13000000,
          11608080,
          11000000,
          8000000,
          7252080,
          7245480,
          5539771,
          5508720,
          5266713,
          5026800,
          2066585,
          2000000
         ],
         "yaxis": "y"
        }
       ],
       "layout": {
        "autosize": true,
        "barmode": "relative",
        "legend": {
         "title": {
          "text": "Tm"
         },
         "tracegroupgap": 0
        },
        "shapes": [
         {
          "line": {
           "color": "yellow",
           "dash": "dash",
           "width": 2
          },
          "type": "line",
          "x0": -0.5,
          "x1": 29.5,
          "y0": 136000000,
          "y1": 136000000
         },
         {
          "line": {
           "color": "red",
           "dash": "dash",
           "width": 2
          },
          "type": "line",
          "x0": -0.5,
          "x1": 29.5,
          "y0": 172000000,
          "y1": 172000000
         },
         {
          "line": {
           "color": "orange",
           "dash": "dash",
           "width": 2
          },
          "type": "line",
          "x0": -0.5,
          "x1": 29.5,
          "y0": 165000000,
          "y1": 165000000
         }
        ],
        "template": {
         "data": {
          "bar": [
           {
            "error_x": {
             "color": "#2a3f5f"
            },
            "error_y": {
             "color": "#2a3f5f"
            },
            "marker": {
             "line": {
              "color": "#E5ECF6",
              "width": 0.5
             },
             "pattern": {
              "fillmode": "overlay",
              "size": 10,
              "solidity": 0.2
             }
            },
            "type": "bar"
           }
          ],
          "barpolar": [
           {
            "marker": {
             "line": {
              "color": "#E5ECF6",
              "width": 0.5
             },
             "pattern": {
              "fillmode": "overlay",
              "size": 10,
              "solidity": 0.2
             }
            },
            "type": "barpolar"
           }
          ],
          "carpet": [
           {
            "aaxis": {
             "endlinecolor": "#2a3f5f",
             "gridcolor": "white",
             "linecolor": "white",
             "minorgridcolor": "white",
             "startlinecolor": "#2a3f5f"
            },
            "baxis": {
             "endlinecolor": "#2a3f5f",
             "gridcolor": "white",
             "linecolor": "white",
             "minorgridcolor": "white",
             "startlinecolor": "#2a3f5f"
            },
            "type": "carpet"
           }
          ],
          "choropleth": [
           {
            "colorbar": {
             "outlinewidth": 0,
             "ticks": ""
            },
            "type": "choropleth"
           }
          ],
          "contour": [
           {
            "colorbar": {
             "outlinewidth": 0,
             "ticks": ""
            },
            "colorscale": [
             [
              0,
              "#0d0887"
             ],
             [
              0.1111111111111111,
              "#46039f"
             ],
             [
              0.2222222222222222,
              "#7201a8"
             ],
             [
              0.3333333333333333,
              "#9c179e"
             ],
             [
              0.4444444444444444,
              "#bd3786"
             ],
             [
              0.5555555555555556,
              "#d8576b"
             ],
             [
              0.6666666666666666,
              "#ed7953"
             ],
             [
              0.7777777777777778,
              "#fb9f3a"
             ],
             [
              0.8888888888888888,
              "#fdca26"
             ],
             [
              1,
              "#f0f921"
             ]
            ],
            "type": "contour"
           }
          ],
          "contourcarpet": [
           {
            "colorbar": {
             "outlinewidth": 0,
             "ticks": ""
            },
            "type": "contourcarpet"
           }
          ],
          "heatmap": [
           {
            "colorbar": {
             "outlinewidth": 0,
             "ticks": ""
            },
            "colorscale": [
             [
              0,
              "#0d0887"
             ],
             [
              0.1111111111111111,
              "#46039f"
             ],
             [
              0.2222222222222222,
              "#7201a8"
             ],
             [
              0.3333333333333333,
              "#9c179e"
             ],
             [
              0.4444444444444444,
              "#bd3786"
             ],
             [
              0.5555555555555556,
              "#d8576b"
             ],
             [
              0.6666666666666666,
              "#ed7953"
             ],
             [
              0.7777777777777778,
              "#fb9f3a"
             ],
             [
              0.8888888888888888,
              "#fdca26"
             ],
             [
              1,
              "#f0f921"
             ]
            ],
            "type": "heatmap"
           }
          ],
          "heatmapgl": [
           {
            "colorbar": {
             "outlinewidth": 0,
             "ticks": ""
            },
            "colorscale": [
             [
              0,
              "#0d0887"
             ],
             [
              0.1111111111111111,
              "#46039f"
             ],
             [
              0.2222222222222222,
              "#7201a8"
             ],
             [
              0.3333333333333333,
              "#9c179e"
             ],
             [
              0.4444444444444444,
              "#bd3786"
             ],
             [
              0.5555555555555556,
              "#d8576b"
             ],
             [
              0.6666666666666666,
              "#ed7953"
             ],
             [
              0.7777777777777778,
              "#fb9f3a"
             ],
             [
              0.8888888888888888,
              "#fdca26"
             ],
             [
              1,
              "#f0f921"
             ]
            ],
            "type": "heatmapgl"
           }
          ],
          "histogram": [
           {
            "marker": {
             "pattern": {
              "fillmode": "overlay",
              "size": 10,
              "solidity": 0.2
             }
            },
            "type": "histogram"
           }
          ],
          "histogram2d": [
           {
            "colorbar": {
             "outlinewidth": 0,
             "ticks": ""
            },
            "colorscale": [
             [
              0,
              "#0d0887"
             ],
             [
              0.1111111111111111,
              "#46039f"
             ],
             [
              0.2222222222222222,
              "#7201a8"
             ],
             [
              0.3333333333333333,
              "#9c179e"
             ],
             [
              0.4444444444444444,
              "#bd3786"
             ],
             [
              0.5555555555555556,
              "#d8576b"
             ],
             [
              0.6666666666666666,
              "#ed7953"
             ],
             [
              0.7777777777777778,
              "#fb9f3a"
             ],
             [
              0.8888888888888888,
              "#fdca26"
             ],
             [
              1,
              "#f0f921"
             ]
            ],
            "type": "histogram2d"
           }
          ],
          "histogram2dcontour": [
           {
            "colorbar": {
             "outlinewidth": 0,
             "ticks": ""
            },
            "colorscale": [
             [
              0,
              "#0d0887"
             ],
             [
              0.1111111111111111,
              "#46039f"
             ],
             [
              0.2222222222222222,
              "#7201a8"
             ],
             [
              0.3333333333333333,
              "#9c179e"
             ],
             [
              0.4444444444444444,
              "#bd3786"
             ],
             [
              0.5555555555555556,
              "#d8576b"
             ],
             [
              0.6666666666666666,
              "#ed7953"
             ],
             [
              0.7777777777777778,
              "#fb9f3a"
             ],
             [
              0.8888888888888888,
              "#fdca26"
             ],
             [
              1,
              "#f0f921"
             ]
            ],
            "type": "histogram2dcontour"
           }
          ],
          "mesh3d": [
           {
            "colorbar": {
             "outlinewidth": 0,
             "ticks": ""
            },
            "type": "mesh3d"
           }
          ],
          "parcoords": [
           {
            "line": {
             "colorbar": {
              "outlinewidth": 0,
              "ticks": ""
             }
            },
            "type": "parcoords"
           }
          ],
          "pie": [
           {
            "automargin": true,
            "type": "pie"
           }
          ],
          "scatter": [
           {
            "fillpattern": {
             "fillmode": "overlay",
             "size": 10,
             "solidity": 0.2
            },
            "type": "scatter"
           }
          ],
          "scatter3d": [
           {
            "line": {
             "colorbar": {
              "outlinewidth": 0,
              "ticks": ""
             }
            },
            "marker": {
             "colorbar": {
              "outlinewidth": 0,
              "ticks": ""
             }
            },
            "type": "scatter3d"
           }
          ],
          "scattercarpet": [
           {
            "marker": {
             "colorbar": {
              "outlinewidth": 0,
              "ticks": ""
             }
            },
            "type": "scattercarpet"
           }
          ],
          "scattergeo": [
           {
            "marker": {
             "colorbar": {
              "outlinewidth": 0,
              "ticks": ""
             }
            },
            "type": "scattergeo"
           }
          ],
          "scattergl": [
           {
            "marker": {
             "colorbar": {
              "outlinewidth": 0,
              "ticks": ""
             }
            },
            "type": "scattergl"
           }
          ],
          "scattermapbox": [
           {
            "marker": {
             "colorbar": {
              "outlinewidth": 0,
              "ticks": ""
             }
            },
            "type": "scattermapbox"
           }
          ],
          "scatterpolar": [
           {
            "marker": {
             "colorbar": {
              "outlinewidth": 0,
              "ticks": ""
             }
            },
            "type": "scatterpolar"
           }
          ],
          "scatterpolargl": [
           {
            "marker": {
             "colorbar": {
              "outlinewidth": 0,
              "ticks": ""
             }
            },
            "type": "scatterpolargl"
           }
          ],
          "scatterternary": [
           {
            "marker": {
             "colorbar": {
              "outlinewidth": 0,
              "ticks": ""
             }
            },
            "type": "scatterternary"
           }
          ],
          "surface": [
           {
            "colorbar": {
             "outlinewidth": 0,
             "ticks": ""
            },
            "colorscale": [
             [
              0,
              "#0d0887"
             ],
             [
              0.1111111111111111,
              "#46039f"
             ],
             [
              0.2222222222222222,
              "#7201a8"
             ],
             [
              0.3333333333333333,
              "#9c179e"
             ],
             [
              0.4444444444444444,
              "#bd3786"
             ],
             [
              0.5555555555555556,
              "#d8576b"
             ],
             [
              0.6666666666666666,
              "#ed7953"
             ],
             [
              0.7777777777777778,
              "#fb9f3a"
             ],
             [
              0.8888888888888888,
              "#fdca26"
             ],
             [
              1,
              "#f0f921"
             ]
            ],
            "type": "surface"
           }
          ],
          "table": [
           {
            "cells": {
             "fill": {
              "color": "#EBF0F8"
             },
             "line": {
              "color": "white"
             }
            },
            "header": {
             "fill": {
              "color": "#C8D4E3"
             },
             "line": {
              "color": "white"
             }
            },
            "type": "table"
           }
          ]
         },
         "layout": {
          "annotationdefaults": {
           "arrowcolor": "#2a3f5f",
           "arrowhead": 0,
           "arrowwidth": 1
          },
          "autotypenumbers": "strict",
          "coloraxis": {
           "colorbar": {
            "outlinewidth": 0,
            "ticks": ""
           }
          },
          "colorscale": {
           "diverging": [
            [
             0,
             "#8e0152"
            ],
            [
             0.1,
             "#c51b7d"
            ],
            [
             0.2,
             "#de77ae"
            ],
            [
             0.3,
             "#f1b6da"
            ],
            [
             0.4,
             "#fde0ef"
            ],
            [
             0.5,
             "#f7f7f7"
            ],
            [
             0.6,
             "#e6f5d0"
            ],
            [
             0.7,
             "#b8e186"
            ],
            [
             0.8,
             "#7fbc41"
            ],
            [
             0.9,
             "#4d9221"
            ],
            [
             1,
             "#276419"
            ]
           ],
           "sequential": [
            [
             0,
             "#0d0887"
            ],
            [
             0.1111111111111111,
             "#46039f"
            ],
            [
             0.2222222222222222,
             "#7201a8"
            ],
            [
             0.3333333333333333,
             "#9c179e"
            ],
            [
             0.4444444444444444,
             "#bd3786"
            ],
            [
             0.5555555555555556,
             "#d8576b"
            ],
            [
             0.6666666666666666,
             "#ed7953"
            ],
            [
             0.7777777777777778,
             "#fb9f3a"
            ],
            [
             0.8888888888888888,
             "#fdca26"
            ],
            [
             1,
             "#f0f921"
            ]
           ],
           "sequentialminus": [
            [
             0,
             "#0d0887"
            ],
            [
             0.1111111111111111,
             "#46039f"
            ],
            [
             0.2222222222222222,
             "#7201a8"
            ],
            [
             0.3333333333333333,
             "#9c179e"
            ],
            [
             0.4444444444444444,
             "#bd3786"
            ],
            [
             0.5555555555555556,
             "#d8576b"
            ],
            [
             0.6666666666666666,
             "#ed7953"
            ],
            [
             0.7777777777777778,
             "#fb9f3a"
            ],
            [
             0.8888888888888888,
             "#fdca26"
            ],
            [
             1,
             "#f0f921"
            ]
           ]
          },
          "colorway": [
           "#636efa",
           "#EF553B",
           "#00cc96",
           "#ab63fa",
           "#FFA15A",
           "#19d3f3",
           "#FF6692",
           "#B6E880",
           "#FF97FF",
           "#FECB52"
          ],
          "font": {
           "color": "#2a3f5f"
          },
          "geo": {
           "bgcolor": "white",
           "lakecolor": "white",
           "landcolor": "#E5ECF6",
           "showlakes": true,
           "showland": true,
           "subunitcolor": "white"
          },
          "hoverlabel": {
           "align": "left"
          },
          "hovermode": "closest",
          "mapbox": {
           "style": "light"
          },
          "paper_bgcolor": "white",
          "plot_bgcolor": "#E5ECF6",
          "polar": {
           "angularaxis": {
            "gridcolor": "white",
            "linecolor": "white",
            "ticks": ""
           },
           "bgcolor": "#E5ECF6",
           "radialaxis": {
            "gridcolor": "white",
            "linecolor": "white",
            "ticks": ""
           }
          },
          "scene": {
           "xaxis": {
            "backgroundcolor": "#E5ECF6",
            "gridcolor": "white",
            "gridwidth": 2,
            "linecolor": "white",
            "showbackground": true,
            "ticks": "",
            "zerolinecolor": "white"
           },
           "yaxis": {
            "backgroundcolor": "#E5ECF6",
            "gridcolor": "white",
            "gridwidth": 2,
            "linecolor": "white",
            "showbackground": true,
            "ticks": "",
            "zerolinecolor": "white"
           },
           "zaxis": {
            "backgroundcolor": "#E5ECF6",
            "gridcolor": "white",
            "gridwidth": 2,
            "linecolor": "white",
            "showbackground": true,
            "ticks": "",
            "zerolinecolor": "white"
           }
          },
          "shapedefaults": {
           "line": {
            "color": "#2a3f5f"
           }
          },
          "ternary": {
           "aaxis": {
            "gridcolor": "white",
            "linecolor": "white",
            "ticks": ""
           },
           "baxis": {
            "gridcolor": "white",
            "linecolor": "white",
            "ticks": ""
           },
           "bgcolor": "#E5ECF6",
           "caxis": {
            "gridcolor": "white",
            "linecolor": "white",
            "ticks": ""
           }
          },
          "title": {
           "x": 0.05
          },
          "xaxis": {
           "automargin": true,
           "gridcolor": "white",
           "linecolor": "white",
           "ticks": "",
           "title": {
            "standoff": 15
           },
           "zerolinecolor": "white",
           "zerolinewidth": 2
          },
          "yaxis": {
           "automargin": true,
           "gridcolor": "white",
           "linecolor": "white",
           "ticks": "",
           "title": {
            "standoff": 15
           },
           "zerolinecolor": "white",
           "zerolinewidth": 2
          }
         }
        },
        "title": {
         "text": "NBA Players Salaries by Team (2023-24)"
        },
        "xaxis": {
         "anchor": "y",
         "autorange": true,
         "categoryarray": [
          "LAC",
          "GSW",
          "MIL",
          "PHO",
          "BOS",
          "DEN",
          "MIA",
          "PHI",
          "CHI",
          "DAL",
          "LAL",
          "MIN",
          "NOP",
          "CLE",
          "POR",
          "HOU",
          "NYK",
          "BRK",
          "MEM",
          "TOR",
          "ATL",
          "SAC",
          "OKC",
          "SAS",
          "WAS",
          "CHO",
          "IND",
          "UTA",
          "DET",
          "ORL",
          null
         ],
         "categoryorder": "array",
         "domain": [
          0,
          1
         ],
         "range": [
          -0.5366748166259169,
          29.53667481662592
         ],
         "tickangle": -45,
         "title": {
          "text": "Team"
         },
         "type": "category"
        },
        "yaxis": {
         "anchor": "x",
         "autorange": true,
         "domain": [
          0,
          1
         ],
         "range": [
          0,
          222399040
         ],
         "title": {
          "text": "Salary in USD"
         },
         "type": "linear"
        }
       }
      },
      "image/png": "[encoded data removed]",
      "text/html": [
       "<div>                            <div id=\"2cc74edb-cc8a-40a7-acfb-0b941a6b3159\" class=\"plotly-graph-div\" style=\"height:600px; width:100%;\"></div>            <script type=\"text/javascript\">                require([\"plotly\"], function(Plotly) {                    window.PLOTLYENV=window.PLOTLYENV || {};                                    if (document.getElementById(\"2cc74edb-cc8a-40a7-acfb-0b941a6b3159\")) {                    Plotly.newPlot(                        \"2cc74edb-cc8a-40a7-acfb-0b941a6b3159\",                        [{\"alignmentgroup\":\"True\",\"customdata\":[[\"Kawhi Leonard\"],[\"Paul George\"],[\"James Harden\"],[\"Norman Powell\"],[\"P.J. Tucker\"],[\"Ivica Zubac\"],[\"Terance Mann\"],[\"Daniel Theis\"],[\"Joshua Primo\"],[\"Mason Plumlee\"],[\"Russell Westbrook\"],[\"Amir Coffey\"],[\"Kobe Brown\"],[\"Bones Hyland\"],[\"Brandon Boston Jr.\"]],\"hovertemplate\":\"Tm=%{x}<br>Salary=%{y}<br>Player=%{customdata[0]}<extra></extra>\",\"legendgroup\":\"LAC\",\"marker\":{\"color\":[\"#c8102e\",\"#ac183d\",\"#8f214d\",\"#72295c\",\"#56316b\",\"#393a7b\",\"#1d428a\",\"#1d428a\",\"#183773\",\"#132c5c\",\"#0e2145\",\"#0a162e\",\"#050b17\",\"#000000\"],\"pattern\":{\"shape\":\"\"}},\"name\":\"LAC\",\"offsetgroup\":\"LAC\",\"orientation\":\"v\",\"showlegend\":true,\"textposition\":\"auto\",\"x\":[\"LAC\",\"LAC\",\"LAC\",\"LAC\",\"LAC\",\"LAC\",\"LAC\",\"LAC\",\"LAC\",\"LAC\",\"LAC\",\"LAC\",\"LAC\",\"LAC\",\"LAC\"],\"xaxis\":\"x\",\"y\":[45640084.0,45640084.0,35640000.0,18000000.0,11014500.0,10933333.0,10576923.0,8670002.0,6105941.0,5000000.0,3835738.0,3666667.0,2413320.0,2306400.0,1836096.0],\"yaxis\":\"y\",\"type\":\"bar\",\"hoverinfo\":\"y+text\"},{\"alignmentgroup\":\"True\",\"customdata\":[[\"Stephen Curry\"],[\"Klay Thompson\"],[\"Chris Paul\"],[\"Andrew Wiggins\"],[\"Draymond Green\"],[\"Gary Payton II\"],[\"Kevon Looney\"],[\"Jonathan Kuminga\"],[\"Moses Moody\"],[\"Brandin Podziemski\"],[\"Dario \\u0160ari\\u0107\"],[\"Cory Joseph\"],[\"Trayce Jackson-Davis\"],[\"Gui Santos\"]],\"hovertemplate\":\"Tm=%{x}<br>Salary=%{y}<br>Player=%{customdata[0]}<extra></extra>\",\"legendgroup\":\"GSW\",\"marker\":{\"color\":[\"#1d428a\",\"#43587a\",\"#686e6b\",\"#8e845b\",\"#b49b4b\",\"#d9b13c\",\"#ffc72c\",\"#ffc72c\",\"#ffd04f\",\"#ffda72\",\"#ffe395\",\"#ffecb9\",\"#fff6dc\",\"#ffffff\"],\"pattern\":{\"shape\":\"\"}},\"name\":\"GSW\",\"offsetgroup\":\"GSW\",\"orientation\":\"v\",\"showlegend\":true,\"textposition\":\"auto\",\"x\":[\"GSW\",\"GSW\",\"GSW\",\"GSW\",\"GSW\",\"GSW\",\"GSW\",\"GSW\",\"GSW\",\"GSW\",\"GSW\",\"GSW\",\"GSW\",\"GSW\"],\"xaxis\":\"x\",\"y\":[51915615.0,43219440.0,30800000.0,24330357.0,22321429.0,8715000.0,7500000.0,6012840.0,3918480.0,3352440.0,2019706.0,2019706.0,1119563.0,1029483.0],\"yaxis\":\"y\",\"type\":\"bar\",\"hoverinfo\":\"y+text\"},{\"alignmentgroup\":\"True\",\"customdata\":[[\"Giannis Antetokounmpo\"],[\"Damian Lillard\"],[\"Khris Middleton\"],[\"Brook Lopez\"],[\"Bobby Portis\"],[\"Pat Connaughton\"],[\"Cameron Payne\"],[\"MarJon Beauchamp\"],[\"Thanasis Antetokounmpo\"],[\"Jae Crowder\"],[\"Malik Beasley\"],[\"Robin Lopez\"],[\"A.J. Green\"],[\"Chris Livingston\"],[\"Andre Jackson Jr.\"]],\"hovertemplate\":\"Tm=%{x}<br>Salary=%{y}<br>Player=%{customdata[0]}<extra></extra>\",\"legendgroup\":\"MIL\",\"marker\":{\"color\":[\"#00471b\",\"#286138\",\"#4f7a54\",\"#779471\",\"#9fae8d\",\"#c6c7aa\",\"#c6cfc5\",\"#c6cfc5\",\"#eee1c6\",\"#eee1c6\",\"#f1e7d0\",\"#f7f1e4\",\"#ffffff\",\"#ffffff\",\"#ffffff\"],\"pattern\":{\"shape\":\"\"}},\"name\":\"MIL\",\"offsetgroup\":\"MIL\",\"orientation\":\"v\",\"showlegend\":true,\"textposition\":\"auto\",\"x\":[\"MIL\",\"MIL\",\"MIL\",\"MIL\",\"MIL\",\"MIL\",\"MIL\",\"MIL\",\"MIL\",\"MIL\",\"MIL\",\"MIL\",\"MIL\",\"MIL\",\"MIL\"],\"xaxis\":\"x\",\"y\":[45640084.0,45640084.0,29320988.0,25000000.0,11710818.0,9423869.0,8519706.0,2609400.0,2019706.0,2019706.0,2019706.0,2019706.0,1901769.0,1119563.0,1119563.0],\"yaxis\":\"y\",\"type\":\"bar\",\"hoverinfo\":\"y+text\"},{\"alignmentgroup\":\"True\",\"customdata\":[[\"Kevin Durant\"],[\"Bradley Beal\"],[\"Devin Booker\"],[\"Jusuf Nurki\\u0107\"],[\"Grayson Allen\"],[\"Nassir Little\"],[\"Eric Gordon\"],[\"Josh Okogie\"],[\"Keon Johnson\"],[\"Damion Lee\"],[\"Yuta Watanabe\"],[\"Drew Eubanks\"],[\"Keita Bates-Diop\"],[\"Bol Bol\"],[\"Chimezie Metu\"],[\"Jordan Goodwin\"]],\"hovertemplate\":\"Tm=%{x}<br>Salary=%{y}<br>Player=%{customdata[0]}<extra></extra>\",\"legendgroup\":\"PHO\",\"marker\":{\"color\":[\"#5f259f\",\"#7a3084\",\"#943c6a\",\"#af4750\",\"#ca5235\",\"#e45e1a\",\"#ff6900\",\"#ff6900\",\"#d45800\",\"#aa4600\",\"#803400\",\"#552300\",\"#2a1100\",\"#000000\"],\"pattern\":{\"shape\":\"\"}},\"name\":\"PHO\",\"offsetgroup\":\"PHO\",\"orientation\":\"v\",\"showlegend\":true,\"textposition\":\"auto\",\"x\":[\"PHO\",\"PHO\",\"PHO\",\"PHO\",\"PHO\",\"PHO\",\"PHO\",\"PHO\",\"PHO\",\"PHO\",\"PHO\",\"PHO\",\"PHO\",\"PHO\",\"PHO\",\"PHO\"],\"xaxis\":\"x\",\"y\":[47649433.0,46741590.0,36016200.0,16875000.0,8925000.0,6250000.0,3196448.0,2815937.0,2808720.0,2528233.0,2346614.0,2346614.0,2346614.0,2019706.0,2019706.0,1927896.0],\"yaxis\":\"y\",\"type\":\"bar\",\"hoverinfo\":\"y+text\"},{\"alignmentgroup\":\"True\",\"customdata\":[[\"Jrue Holiday\"],[\"Kristaps Porzi\\u0146\\u0123is\"],[\"Jayson Tatum\"],[\"Jaylen Brown\"],[\"Derrick White\"],[\"Al Horford\"],[\"Payton Pritchard\"],[\"Lamar Stevens\"],[\"Luke Kornet\"],[\"Oshae Brissett\"],[\"Svi Mykhailiuk\"],[\"Dalano Banton\"],[\"Sam Hauser\"],[\"Jordan Walsh\"],[\"Demetrius Jackson\"]],\"hovertemplate\":\"Tm=%{x}<br>Salary=%{y}<br>Player=%{customdata[0]}<extra></extra>\",\"legendgroup\":\"BOS\",\"marker\":{\"color\":[\"#007a33\",\"#1f7f38\",\"#3e833e\",\"#5d8843\",\"#7c8d48\",\"#9b914e\",\"#ba9653\",\"#ba9653\",\"#b4864b\",\"#ae7742\",\"#a8673a\",\"#a25732\",\"#9c4829\",\"#963821\"],\"pattern\":{\"shape\":\"\"}},\"name\":\"BOS\",\"offsetgroup\":\"BOS\",\"orientation\":\"v\",\"showlegend\":true,\"textposition\":\"auto\",\"x\":[\"BOS\",\"BOS\",\"BOS\",\"BOS\",\"BOS\",\"BOS\",\"BOS\",\"BOS\",\"BOS\",\"BOS\",\"BOS\",\"BOS\",\"BOS\",\"BOS\",\"BOS\"],\"xaxis\":\"x\",\"y\":[36861707.0,36016200.0,32600060.0,31830357.0,18357143.0,10000000.0,4037277.0,2419706.0,2413304.0,2165000.0,2019706.0,2019706.0,1927896.0,1119563.0,92857.0],\"yaxis\":\"y\",\"type\":\"bar\",\"hoverinfo\":\"y+text\"},{\"alignmentgroup\":\"True\",\"customdata\":[[\"Nikola Joki\\u0107\"],[\"Jamal Murray\"],[\"Michael Porter Jr.\"],[\"Aaron Gordon\"],[\"Kentavious Caldwell-Pope\"],[\"Reggie Jackson\"],[\"Zeke Nnaji\"],[\"Christian Braun\"],[\"Julian Strawther\"],[\"Peyton Watson\"],[\"Vlatko \\u010can\\u010dar\"],[\"Justin Holiday\"],[\"DeAndre Jordan\"],[\"Jalen Pickett\"],[\"Hunter Tyson\"]],\"hovertemplate\":\"Tm=%{x}<br>Salary=%{y}<br>Player=%{customdata[0]}<extra></extra>\",\"legendgroup\":\"DEN\",\"marker\":{\"color\":[\"#0E2240\",\"#122b50\",\"#485654\",\"#6c6a4d\",\"#917e45\",\"#b5923e\",\"#d9a737\",\"#fdbb30\",\"#fdbb30\",\"#f4bc45\",\"#ebbc5a\",\"#e2bd6f\",\"#d9be83\",\"#d0bf98\",\"#c7bfad\",\"#c7bfad\",\"#bec0c2\",\"#bec0c2\"],\"pattern\":{\"shape\":\"\"}},\"name\":\"DEN\",\"offsetgroup\":\"DEN\",\"orientation\":\"v\",\"showlegend\":true,\"textposition\":\"auto\",\"x\":[\"DEN\",\"DEN\",\"DEN\",\"DEN\",\"DEN\",\"DEN\",\"DEN\",\"DEN\",\"DEN\",\"DEN\",\"DEN\",\"DEN\",\"DEN\",\"DEN\",\"DEN\"],\"xaxis\":\"x\",\"y\":[47607350.0,33833400.0,33386850.0,22266182.0,14704938.0,5000000.0,4306281.0,2949120.0,2431080.0,2303520.0,2234359.0,2019706.0,2019706.0,1708143.0,1119563.0],\"yaxis\":\"y\",\"type\":\"bar\",\"hoverinfo\":\"y+text\"},{\"alignmentgroup\":\"True\",\"customdata\":[[\"Jimmy Butler\"],[\"Bam Adebayo\"],[\"Tyler Herro\"],[\"Terry Rozier\"],[\"Duncan Robinson\"],[\"Caleb Martin\"],[\"Kevin Love\"],[\"Jaime Jaquez Jr.\"],[\"Josh Richardson\"],[\"Thomas Bryant\"],[\"Nikola Jovi\\u0107\"],[\"Haywood Highsmith\"],[\"Dru Smith\"],[\"Orlando Robinson\"]],\"hovertemplate\":\"Tm=%{x}<br>Salary=%{y}<br>Player=%{customdata[0]}<extra></extra>\",\"legendgroup\":\"MIA\",\"marker\":{\"color\":[\"#ce1141\",\"#be103c\",\"#ae0e37\",\"#9e0d32\",\"#8f0c2d\",\"#7f0a28\",\"#6f0923\",\"#5f081e\",\"#4f0719\",\"#3f0514\",\"#30040f\",\"#20030a\",\"#100105\",\"#000000\"],\"pattern\":{\"shape\":\"\"}},\"name\":\"MIA\",\"offsetgroup\":\"MIA\",\"orientation\":\"v\",\"showlegend\":true,\"textposition\":\"auto\",\"x\":[\"MIA\",\"MIA\",\"MIA\",\"MIA\",\"MIA\",\"MIA\",\"MIA\",\"MIA\",\"MIA\",\"MIA\",\"MIA\",\"MIA\",\"MIA\",\"MIA\"],\"xaxis\":\"x\",\"y\":[45183960.0,32600060.0,27000000.0,23205221.0,18154000.0,6802950.0,3835738.0,3510600.0,2891467.0,2528233.0,2352000.0,1902137.0,1801769.0,1801769.0],\"yaxis\":\"y\",\"type\":\"bar\",\"hoverinfo\":\"y+text\"},{\"alignmentgroup\":\"True\",\"customdata\":[[\"Joel Embiid\"],[\"Tobias Harris\"],[\"Marcus Morris\"],[\"Nicolas Batum\"],[\"Robert Covington\"],[\"De'Anthony Melton\"],[\"Paul Reed\"],[\"Furkan Korkmaz\"],[\"Tyrese Maxey\"],[\"Danuel House Jr.\"],[\"Jaden Springer\"],[\"Montrezl Harrell\"],[\"Kelly Oubre Jr.\"],[\"Patrick Beverley\"],[\"Mo Bamba\"],[\"KJ Martin\"],[\"Danny Green\"]],\"hovertemplate\":\"Tm=%{x}<br>Salary=%{y}<br>Player=%{customdata[0]}<extra></extra>\",\"legendgroup\":\"PHI\",\"marker\":{\"color\":[\"#0060a3\",\"#006bb6\",\"#3b569c\",\"#764181\",\"#b22c66\",\"#ed174c\",\"#ed174c\",\"#b21c50\",\"#762154\",\"#3b2658\",\"#002b5c\",\"#002b5c\",\"#31547a\",\"#627c98\",\"#93a5b6\",\"#c4ced4\"],\"pattern\":{\"shape\":\"\"}},\"name\":\"PHI\",\"offsetgroup\":\"PHI\",\"orientation\":\"v\",\"showlegend\":true,\"textposition\":\"auto\",\"x\":[\"PHI\",\"PHI\",\"PHI\",\"PHI\",\"PHI\",\"PHI\",\"PHI\",\"PHI\",\"PHI\",\"PHI\",\"PHI\",\"PHI\",\"PHI\",\"PHI\",\"PHI\",\"PHI\",\"PHI\"],\"xaxis\":\"x\",\"y\":[47607350.0,39270150.0,17116279.0,11710818.0,11692308.0,8000000.0,7723000.0,5370370.0,4343920.0,4310250.0,2226240.0,2019706.0,2019706.0,2019706.0,2019706.0,1930681.0,200000.0],\"yaxis\":\"y\",\"type\":\"bar\",\"hoverinfo\":\"y+text\"},{\"alignmentgroup\":\"True\",\"customdata\":[[\"Zach LaVine\"],[\"DeMar DeRozan\"],[\"Lonzo Ball\"],[\"Nikola Vu\\u010devi\\u0107\"],[\"Coby White\"],[\"Patrick Williams\"],[\"Alex Caruso\"],[\"Ayo Dosunmu\"],[\"Jevon Carter\"],[\"Derrick Jones Jr.\"],[\"Andre Drummond\"],[\"Dalen Terry\"],[\"Torrey Craig\"],[\"Terry Taylor\"],[\"Julian Phillips\"]],\"hovertemplate\":\"Tm=%{x}<br>Salary=%{y}<br>Player=%{customdata[0]}<extra></extra>\",\"legendgroup\":\"CHI\",\"marker\":{\"color\":[\"#ce1141\",\"#ac0e36\",\"#890b2b\",\"#670820\",\"#450616\",\"#22030b\",\"#000000\",\"#000000\",\"#2a2a2a\",\"#555555\",\"#808080\",\"#aaaaaa\",\"#d4d4d4\",\"#ffffff\",\"#ffffff\"],\"pattern\":{\"shape\":\"\"}},\"name\":\"CHI\",\"offsetgroup\":\"CHI\",\"orientation\":\"v\",\"showlegend\":true,\"textposition\":\"auto\",\"x\":[\"CHI\",\"CHI\",\"CHI\",\"CHI\",\"CHI\",\"CHI\",\"CHI\",\"CHI\",\"CHI\",\"CHI\",\"CHI\",\"CHI\",\"CHI\",\"CHI\",\"CHI\"],\"xaxis\":\"x\",\"y\":[40064220.0,28600000.0,20465117.0,18518519.0,11111111.0,9835881.0,9460000.0,6481482.0,6190476.0,5379706.0,3360000.0,3350760.0,2528233.0,2019706.0,1600000.0],\"yaxis\":\"y\",\"type\":\"bar\",\"hoverinfo\":\"y+text\"},{\"alignmentgroup\":\"True\",\"customdata\":[[\"Luka Don\\u010di\\u0107\"],[\"Kyrie Irving\"],[\"Tim Hardaway Jr.\"],[\"Grant Williams\"],[\"Richaun Holmes\"],[\"Maxi Kleber\"],[\"Derrick Jones Jr.\"],[\"Dereck Lively II\"],[\"Josh Green\"],[\"JaVale McGee\"],[\"Dwight Powell\"],[\"Seth Curry\"],[\"Dante Exum\"],[\"Olivier-Maxence Prosper\"],[\"Markieff Morris\"],[\"Jaden Hardy\"]],\"hovertemplate\":\"Tm=%{x}<br>Salary=%{y}<br>Player=%{customdata[0]}<extra></extra>\",\"legendgroup\":\"DAL\",\"marker\":{\"color\":[\"#00538c\",\"#004c84\",\"#00467d\",\"#003f75\",\"#00386d\",\"#003266\",\"#002b5e\",\"#002b5e\",\"#1f4570\",\"#3d5e82\",\"#5c7894\",\"#7b91a6\",\"#99abb8\",\"#b8c4ca\",\"#ffffff\",\"#ffffff\"],\"pattern\":{\"shape\":\"\"}},\"name\":\"DAL\",\"offsetgroup\":\"DAL\",\"orientation\":\"v\",\"showlegend\":true,\"textposition\":\"auto\",\"x\":[\"DAL\",\"DAL\",\"DAL\",\"DAL\",\"DAL\",\"DAL\",\"DAL\",\"DAL\",\"DAL\",\"DAL\",\"DAL\",\"DAL\",\"DAL\",\"DAL\",\"DAL\",\"DAL\"],\"xaxis\":\"x\",\"y\":[40064220.0,37037037.0,17897728.0,12405000.0,12046020.0,11000000.0,5379706.0,4775640.0,4765339.0,4368030.0,4000000.0,4000000.0,3000000.0,2733720.0,2019706.0,1719864.0],\"yaxis\":\"y\",\"type\":\"bar\",\"hoverinfo\":\"y+text\"},{\"alignmentgroup\":\"True\",\"customdata\":[[\"LeBron James\"],[\"Anthony Davis\"],[\"D'Angelo Russell\"],[\"Rui Hachimura\"],[\"Austin Reaves\"],[\"Gabe Vincent\"],[\"Jarred Vanderbilt\"],[\"Taurean Prince\"],[\"Jalen Hood-Schifino\"],[\"Christian Wood\"],[\"Cam Reddish\"],[\"Jaxson Hayes\"],[\"Max Christie\"],[\"Maxwell Lewis\"]],\"hovertemplate\":\"Tm=%{x}<br>Salary=%{y}<br>Player=%{customdata[0]}<extra></extra>\",\"legendgroup\":\"LAL\",\"marker\":{\"color\":[\"#552583\",\"#61307c\",\"#6d3a76\",\"#79456f\",\"#854f69\",\"#915a62\",\"#9d645c\",\"#a96f55\",\"#b57a4e\",\"#c18448\",\"#cd8f41\",\"#d9993b\",\"#e5a434\",\"#f1ae2e\",\"#fdb927\"],\"pattern\":{\"shape\":\"\"}},\"name\":\"LAL\",\"offsetgroup\":\"LAL\",\"orientation\":\"v\",\"showlegend\":true,\"textposition\":\"auto\",\"x\":[\"LAL\",\"LAL\",\"LAL\",\"LAL\",\"LAL\",\"LAL\",\"LAL\",\"LAL\",\"LAL\",\"LAL\",\"LAL\",\"LAL\",\"LAL\",\"LAL\"],\"xaxis\":\"x\",\"y\":[47607350.0,40600080.0,17307693.0,15740741.0,12015150.0,10500000.0,4698000.0,4516000.0,3695040.0,2709849.0,2165000.0,2165000.0,1719864.0,1119563.0],\"yaxis\":\"y\",\"type\":\"bar\",\"hoverinfo\":\"y+text\"},{\"alignmentgroup\":\"True\",\"customdata\":[[\"Rudy Gobert\"],[\"Karl-Anthony Towns\"],[\"Mike Conley\"],[\"Anthony Edwards\"],[\"Naz Reid\"],[\"Kyle Anderson\"],[\"Shake Milton\"],[\"Nickeil Alexander-Walker\"],[\"Troy Brown Jr.\"],[\"Jaden McDaniels\"],[\"Wendell Moore Jr.\"],[\"Jordan McLaughlin\"],[\"Leonard Miller\"],[\"Josh Minott\"]],\"hovertemplate\":\"Tm=%{x}<br>Salary=%{y}<br>Player=%{customdata[0]}<extra></extra>\",\"legendgroup\":\"MIN\",\"marker\":{\"color\":[\"#5d76a9\",\"#506697\",\"#445686\",\"#384674\",\"#2b3762\",\"#1f2751\",\"#12173f\",\"#12173f\",\"#222647\",\"#313550\",\"#414458\",\"#515460\",\"#606369\",\"#707271\"],\"pattern\":{\"shape\":\"\"}},\"name\":\"MIN\",\"offsetgroup\":\"MIN\",\"orientation\":\"v\",\"showlegend\":true,\"textposition\":\"auto\",\"x\":[\"MIN\",\"MIN\",\"MIN\",\"MIN\",\"MIN\",\"MIN\",\"MIN\",\"MIN\",\"MIN\",\"MIN\",\"MIN\",\"MIN\",\"MIN\",\"MIN\"],\"xaxis\":\"x\",\"y\":[41000000.0,36016200.0,24360000.0,13534817.0,12950400.0,9219512.0,5000000.0,4687500.0,4000000.0,3901399.0,2421720.0,2320000.0,1800000.0,1719864.0],\"yaxis\":\"y\",\"type\":\"bar\",\"hoverinfo\":\"y+text\"},{\"alignmentgroup\":\"True\",\"customdata\":[[\"CJ McCollum\"],[\"Zion Williamson\"],[\"Brandon Ingram\"],[\"Jonas Valan\\u010di\\u016bnas\"],[\"Herbert Jones\"],[\"Larry Nance Jr.\"],[\"Dyson Daniels\"],[\"Jordan Hawkins\"],[\"Trey Murphy III\"],[\"Cody Zeller\"],[\"Naji Marshall\"],[\"Jose Alvarado\"],[\"E.J. Liddell\"]],\"hovertemplate\":\"Tm=%{x}<br>Salary=%{y}<br>Player=%{customdata[0]}<extra></extra>\",\"legendgroup\":\"NOP\",\"marker\":{\"color\":[\"#0c2340\",\"#2b203d\",\"#4b1d3a\",\"#6a1a37\",\"#891634\",\"#a91331\",\"#c8102e\",\"#c8102e\",\"#bd2033\",\"#b23038\",\"#a6403d\",\"#9b5143\",\"#906148\",\"#85714d\"],\"pattern\":{\"shape\":\"\"}},\"name\":\"NOP\",\"offsetgroup\":\"NOP\",\"orientation\":\"v\",\"showlegend\":true,\"textposition\":\"auto\",\"x\":[\"NOP\",\"NOP\",\"NOP\",\"NOP\",\"NOP\",\"NOP\",\"NOP\",\"NOP\",\"NOP\",\"NOP\",\"NOP\",\"NOP\",\"NOP\"],\"xaxis\":\"x\",\"y\":[35802469.0,34005250.0,33833400.0,15435000.0,12015150.0,10375000.0,5784120.0,4310160.0,3359280.0,2019706.0,1930681.0,1836096.0,1801769.0],\"yaxis\":\"y\",\"type\":\"bar\",\"hoverinfo\":\"y+text\"},{\"alignmentgroup\":\"True\",\"customdata\":[[\"Darius Garland\"],[\"Donovan Mitchell\"],[\"Jarrett Allen\"],[\"Caris LeVert\"],[\"Max Strus\"],[\"Isaac Okoro\"],[\"Evan Mobley\"],[\"Georges Niang\"],[\"Dean Wade\"],[\"Ricky Rubio\"],[\"Damian Jones\"],[\"Ty Jerome\"],[\"Tristan Thompson\"],[\"Sam Merrill\"]],\"hovertemplate\":\"Tm=%{x}<br>Salary=%{y}<br>Player=%{customdata[0]}<extra></extra>\",\"legendgroup\":\"CLE\",\"marker\":{\"color\":[\"#860038\",\"#70053a\",\"#5b0a3b\",\"#450f3d\",\"#2f143f\",\"#1a1940\",\"#041e42\",\"#041e42\",\"#2e383f\",\"#57523c\",\"#806c39\",\"#aa8736\",\"#d4a133\",\"#fdbb30\"],\"pattern\":{\"shape\":\"\"}},\"name\":\"CLE\",\"offsetgroup\":\"CLE\",\"orientation\":\"v\",\"showlegend\":true,\"textposition\":\"auto\",\"x\":[\"CLE\",\"CLE\",\"CLE\",\"CLE\",\"CLE\",\"CLE\",\"CLE\",\"CLE\",\"CLE\",\"CLE\",\"CLE\",\"CLE\",\"CLE\",\"CLE\"],\"xaxis\":\"x\",\"y\":[34005250.0,33162030.0,20000000.0,15384616.0,14487684.0,8920795.0,8882640.0,8800000.0,5709877.0,3695311.0,2586665.0,2439025.0,2019706.0,1997238.0],\"yaxis\":\"y\",\"type\":\"bar\",\"hoverinfo\":\"y+text\"},{\"alignmentgroup\":\"True\",\"customdata\":[[\"Deandre Ayton\"],[\"Jerami Grant\"],[\"Anfernee Simons\"],[\"Malcolm Brogdon\"],[\"Robert Williams\"],[\"Matisse Thybulle\"],[\"Scoot Henderson\"],[\"Shaedon Sharpe\"],[\"Kris Murray\"],[\"Andrew Nicholson\"],[\"Moses Brown\"],[\"Ish Wainright\"],[\"Skylar Mays\"],[\"Jabari Walker\"],[\"Eric Bledsoe\"],[\"Rayan Rupert\"],[\"Toumani Camara\"],[\"Didi Louzada\"]],\"hovertemplate\":\"Tm=%{x}<br>Salary=%{y}<br>Player=%{customdata[0]}<extra></extra>\",\"legendgroup\":\"POR\",\"marker\":{\"color\":[\"#e03a3e\",\"#cc3538\",\"#b72f33\",\"#a32a2d\",\"#8f2527\",\"#7a2022\",\"#661a1c\",\"#511517\",\"#3d1011\",\"#290b0b\",\"#140506\",\"#000000\"],\"pattern\":{\"shape\":\"\"}},\"name\":\"POR\",\"offsetgroup\":\"POR\",\"orientation\":\"v\",\"showlegend\":true,\"textposition\":\"auto\",\"x\":[\"POR\",\"POR\",\"POR\",\"POR\",\"POR\",\"POR\",\"POR\",\"POR\",\"POR\",\"POR\",\"POR\",\"POR\",\"POR\",\"POR\",\"POR\",\"POR\",\"POR\",\"POR\"],\"xaxis\":\"x\",\"y\":[32459438.0,27586207.0,24107143.0,22500000.0,11571429.0,10500000.0,9770880.0,6313800.0,2847480.0,2844430.0,2019706.0,1927896.0,1799163.0,1719864.0,1300000.0,1119563.0,1119563.0,268032.0],\"yaxis\":\"y\",\"type\":\"bar\",\"hoverinfo\":\"y+text\"},{\"alignmentgroup\":\"True\",\"customdata\":[[\"Fred VanVleet\"],[\"Dillon Brooks\"],[\"Reggie Bullock\"],[\"Jalen Green\"],[\"Jeff Green\"],[\"Victor Oladipo\"],[\"Jabari Smith Jr.\"],[\"Amen Thompson\"],[\"Jock Landale\"],[\"John Wall\"],[\"Jae'Sean Tate\"],[\"Alperen \\u015eeng\\u00fcn\"],[\"Tari Eason\"],[\"Cam Whitmore\"],[\"Boban Marjanovi\\u0107\"],[\"Aaron Holiday\"],[\"Jeremiah Robinson-Earl\"]],\"hovertemplate\":\"Tm=%{x}<br>Salary=%{y}<br>Player=%{customdata[0]}<extra></extra>\",\"legendgroup\":\"HOU\",\"marker\":{\"color\":[\"#ce1141\",\"#b10f38\",\"#930c2e\",\"#760a25\",\"#58071c\",\"#3b0513\",\"#1d0209\",\"#000000\",\"#000000\",\"#1c1d1e\",\"#383b3d\",\"#54585b\",\"#707679\",\"#8c9397\",\"#a8b1b6\",\"#c4ced4\",\"#ffffff\"],\"pattern\":{\"shape\":\"\"}},\"name\":\"HOU\",\"offsetgroup\":\"HOU\",\"orientation\":\"v\",\"showlegend\":true,\"textposition\":\"auto\",\"x\":[\"HOU\",\"HOU\",\"HOU\",\"HOU\",\"HOU\",\"HOU\",\"HOU\",\"HOU\",\"HOU\",\"HOU\",\"HOU\",\"HOU\",\"HOU\",\"HOU\",\"HOU\",\"HOU\",\"HOU\"],\"xaxis\":\"x\",\"y\":[40806300.0,22627671.0,13033786.0,9891480.0,9600000.0,9450000.0,9326520.0,8809320.0,8000000.0,6802950.0,6500000.0,3536280.0,3527160.0,3218160.0,2019706.0,2019706.0,1900000.0],\"yaxis\":\"y\",\"type\":\"bar\",\"hoverinfo\":\"y+text\"},{\"alignmentgroup\":\"True\",\"customdata\":[[\"Julius Randle\"],[\"Jalen Brunson\"],[\"Evan Fournier\"],[\"OG Anunoby\"],[\"Mitchell Robinson\"],[\"Josh Hart\"],[\"Donte DiVincenzo\"],[\"Isaiah Hartenstein\"],[\"Precious Achiuwa\"],[\"Malachi Flynn\"],[\"Quentin Grimes\"],[\"Dylan Windler\"],[\"Ryan Arcidiacono\"],[\"Jericho Sims\"],[\"Miles McBride\"],[\"DaQuan Jeffries\"]],\"hovertemplate\":\"Tm=%{x}<br>Salary=%{y}<br>Player=%{customdata[0]}<extra></extra>\",\"legendgroup\":\"NYK\",\"marker\":{\"color\":[\"#006bb6\",\"#136dab\",\"#266fa0\",\"#397195\",\"#4b738a\",\"#5e757f\",\"#717774\",\"#847868\",\"#977a5d\",\"#aa7c52\",\"#bc7e47\",\"#cf803c\",\"#e28231\",\"#f58426\",\"#f8a45e\",\"#fcd9bc\"],\"pattern\":{\"shape\":\"\"}},\"name\":\"NYK\",\"offsetgroup\":\"NYK\",\"orientation\":\"v\",\"showlegend\":true,\"textposition\":\"auto\",\"x\":[\"NYK\",\"NYK\",\"NYK\",\"NYK\",\"NYK\",\"NYK\",\"NYK\",\"NYK\",\"NYK\",\"NYK\",\"NYK\",\"NYK\",\"NYK\",\"NYK\",\"NYK\",\"NYK\"],\"xaxis\":\"x\",\"y\":[28226880.0,26346666.0,18857143.0,18642857.0,15681818.0,12960000.0,10900000.0,9245121.0,4379527.0,3873025.0,2385720.0,2019706.0,2019706.0,1927896.0,1836096.0,831385.0],\"yaxis\":\"y\",\"type\":\"bar\",\"hoverinfo\":\"y+text\"},{\"alignmentgroup\":\"True\",\"customdata\":[[\"Ben Simmons\"],[\"Cameron Johnson\"],[\"Mikal Bridges\"],[\"Spencer Dinwiddie\"],[\"Dorian Finney-Smith\"],[\"Nic Claxton\"],[\"Royce O'Neale\"],[\"Noah Clowney\"],[\"Dariq Whitehead\"],[\"Cam Thomas\"],[\"Day'Ron Sharpe\"],[\"Lonnie Walker IV\"],[\"Dennis Smith Jr.\"],[\"Trendon Watford\"],[\"Harry Giles\"]],\"hovertemplate\":\"Tm=%{x}<br>Salary=%{y}<br>Player=%{customdata[0]}<extra></extra>\",\"legendgroup\":\"BRK\",\"marker\":{\"color\":[\"#ffffff\",\"#efefef\",\"#dfdfdf\",\"#cfcfcf\",\"#bfbfbf\",\"#afafaf\",\"#9f9f9f\",\"#8f8f8f\",\"#808080\",\"#707070\",\"#606060\",\"#505050\",\"#404040\",\"#303030\",\"#202020\",\"#101010\",\"#000000\"],\"pattern\":{\"shape\":\"\"}},\"name\":\"BRK\",\"offsetgroup\":\"BRK\",\"orientation\":\"v\",\"showlegend\":true,\"textposition\":\"auto\",\"x\":[\"BRK\",\"BRK\",\"BRK\",\"BRK\",\"BRK\",\"BRK\",\"BRK\",\"BRK\",\"BRK\",\"BRK\",\"BRK\",\"BRK\",\"BRK\",\"BRK\",\"BRK\"],\"xaxis\":\"x\",\"y\":[37893408.0,25679348.0,21700000.0,20357143.0,13932008.0,9625000.0,9500000.0,3089520.0,2966040.0,2240160.0,2210040.0,2019706.0,2019706.0,2019706.0,2019706.0],\"yaxis\":\"y\",\"type\":\"bar\",\"hoverinfo\":\"y+text\"},{\"alignmentgroup\":\"True\",\"customdata\":[[\"Ja Morant\"],[\"Jaren Jackson Jr.\"],[\"Marcus Smart\"],[\"Luke Kennard\"],[\"Steven Adams\"],[\"Brandon Clarke\"],[\"Bismack Biyombo\"],[\"Ziaire Williams\"],[\"Desmond Bane\"],[\"Jake LaRavia\"],[\"Derrick Rose\"],[\"David Roddy\"],[\"Josh Christopher\"],[\"John Konchar\"],[\"Santi Aldama\"],[\"Xavier Tillman Sr.\"],[\"Isaiah Todd\"],[\"Kennedy Chandler\"],[\"Kenneth Lofton Jr.\"]],\"hovertemplate\":\"Tm=%{x}<br>Salary=%{y}<br>Player=%{customdata[0]}<extra></extra>\",\"legendgroup\":\"MEM\",\"marker\":{\"color\":[\"#0e1130\",\"#12173f\",\"#171d46\",\"#1b234c\",\"#202953\",\"#252f5a\",\"#293560\",\"#2e3b67\",\"#33416d\",\"#374674\",\"#3c4c7b\",\"#415281\",\"#465888\",\"#4a5e8e\",\"#4f6495\",\"#546a9c\",\"#5870a2\",\"#5d76a9\",\"#b7c2d9\"],\"pattern\":{\"shape\":\"\"}},\"name\":\"MEM\",\"offsetgroup\":\"MEM\",\"orientation\":\"v\",\"showlegend\":true,\"textposition\":\"auto\",\"x\":[\"MEM\",\"MEM\",\"MEM\",\"MEM\",\"MEM\",\"MEM\",\"MEM\",\"MEM\",\"MEM\",\"MEM\",\"MEM\",\"MEM\",\"MEM\",\"MEM\",\"MEM\",\"MEM\",\"MEM\",\"MEM\",\"MEM\"],\"xaxis\":\"x\",\"y\":[34005250.0,27102202.0,18833713.0,14763636.0,12600000.0,12500000.0,5000000.0,4810200.0,3845083.0,3199920.0,3196448.0,2718240.0,2485200.0,2400000.0,2194200.0,1930681.0,1836096.0,1719864.0,1719864.0],\"yaxis\":\"y\",\"type\":\"bar\",\"hoverinfo\":\"y+text\"},{\"alignmentgroup\":\"True\",\"customdata\":[[\"RJ Barrett\"],[\"Bruce Brown\"],[\"Jakob Poeltl\"],[\"Gary Trent Jr.\"],[\"Dennis Schr\\u00f6der\"],[\"Chris Boucher\"],[\"Scottie Barnes\"],[\"Thaddeus Young\"],[\"Otto Porter Jr.\"],[\"Kira Lewis Jr.\"],[\"Gradey Dick\"],[\"Jalen McDaniels\"],[\"Immanuel Quickley\"],[\"Jordan Nwora\"],[\"Garrett Temple\"],[\"Christian Koloko\"]],\"hovertemplate\":\"Tm=%{x}<br>Salary=%{y}<br>Player=%{customdata[0]}<extra></extra>\",\"legendgroup\":\"TOR\",\"marker\":{\"color\":[\"#ce1141\",\"#ac0e36\",\"#890b2b\",\"#670820\",\"#450616\",\"#22030b\",\"#000000\",\"#000000\",\"#1b1b1b\",\"#363637\",\"#505052\",\"#6b6b6d\",\"#868689\",\"#a1a1a4\"],\"pattern\":{\"shape\":\"\"}},\"name\":\"TOR\",\"offsetgroup\":\"TOR\",\"orientation\":\"v\",\"showlegend\":true,\"textposition\":\"auto\",\"x\":[\"TOR\",\"TOR\",\"TOR\",\"TOR\",\"TOR\",\"TOR\",\"TOR\",\"TOR\",\"TOR\",\"TOR\",\"TOR\",\"TOR\",\"TOR\",\"TOR\",\"TOR\",\"TOR\"],\"xaxis\":\"x\",\"y\":[23883929.0,22000000.0,19500000.0,18560000.0,12405000.0,11750000.0,8008680.0,8000000.0,6300000.0,5722116.0,4536720.0,4516000.0,4171548.0,3000000.0,2019706.0,1719864.0],\"yaxis\":\"y\",\"type\":\"bar\",\"hoverinfo\":\"y+text\"},{\"alignmentgroup\":\"True\",\"customdata\":[[\"Trae Young\"],[\"Clint Capela\"],[\"De'Andre Hunter\"],[\"Bogdan Bogdanovi\\u0107\"],[\"Dejounte Murray\"],[\"Onyeka Okongwu\"],[\"Patty Mills\"],[\"Saddiq Bey\"],[\"Kobe Bufkin\"],[\"AJ Griffin\"],[\"Jalen Johnson\"],[\"Bruno Fernando\"],[\"Wesley Matthews\"],[\"Garrison Mathews\"],[\"Mouhamed Gueye\"]],\"hovertemplate\":\"Tm=%{x}<br>Salary=%{y}<br>Player=%{customdata[0]}<extra></extra>\",\"legendgroup\":\"ATL\",\"marker\":{\"color\":[\"#c8102e\",\"#d12c2d\",\"#da482c\",\"#e2642b\",\"#eb8129\",\"#f49d28\",\"#fdb927\",\"#fdb927\",\"#edb53c\",\"#ddb150\",\"#ceae64\",\"#beaa79\",\"#aea68e\",\"#C4C7C7\",\"#ffffff\"],\"pattern\":{\"shape\":\"\"}},\"name\":\"ATL\",\"offsetgroup\":\"ATL\",\"orientation\":\"v\",\"showlegend\":true,\"textposition\":\"auto\",\"x\":[\"ATL\",\"ATL\",\"ATL\",\"ATL\",\"ATL\",\"ATL\",\"ATL\",\"ATL\",\"ATL\",\"ATL\",\"ATL\",\"ATL\",\"ATL\",\"ATL\",\"ATL\"],\"xaxis\":\"x\",\"y\":[40064220.0,20616000.0,20089286.0,18700000.0,18214000.0,8109063.0,6802950.0,4556983.0,4094280.0,3712920.0,2925360.0,2581522.0,2019706.0,2000000.0,1119563.0],\"yaxis\":\"y\",\"type\":\"bar\",\"hoverinfo\":\"y+text\"},{\"alignmentgroup\":\"True\",\"customdata\":[[\"De'Aaron Fox\"],[\"Domantas Sabonis\"],[\"Harrison Barnes\"],[\"Kevin Huerter\"],[\"Malik Monk\"],[\"Keegan Murray\"],[\"Trey Lyles\"],[\"Sasha Vezenkov\"],[\"Davion Mitchell\"],[\"JaVale McGee\"],[\"Chris Duarte\"],[\"Alex Len\"],[\"Colby Jones\"],[\"Kessler Edwards\"],[\"Filip Petru\\u0161ev\"],[\"Nerlens Noel\"],[\"Neemias Queta\"]],\"hovertemplate\":\"Tm=%{x}<br>Salary=%{y}<br>Player=%{customdata[0]}<extra></extra>\",\"legendgroup\":\"SAC\",\"marker\":{\"color\":[\"#5a2d81\",\"#5b3181\",\"#5b3680\",\"#5c3a80\",\"#5c3e7f\",\"#5d437f\",\"#5d477e\",\"#5e4b7e\",\"#5e507e\",\"#5f547d\",\"#60587d\",\"#605c7c\",\"#61617c\",\"#61657b\",\"#62697b\",\"#626e7a\",\"#63727a\"],\"pattern\":{\"shape\":\"\"}},\"name\":\"SAC\",\"offsetgroup\":\"SAC\",\"orientation\":\"v\",\"showlegend\":true,\"textposition\":\"auto\",\"x\":[\"SAC\",\"SAC\",\"SAC\",\"SAC\",\"SAC\",\"SAC\",\"SAC\",\"SAC\",\"SAC\",\"SAC\",\"SAC\",\"SAC\",\"SAC\",\"SAC\",\"SAC\",\"SAC\",\"SAC\"],\"xaxis\":\"x\",\"y\":[32600060.0,30600000.0,17000000.0,15669643.0,9945830.0,8409000.0,8000000.0,6341464.0,5063640.0,4368030.0,4124400.0,2019706.0,2019706.0,1927896.0,559782.0,300000.0,250000.0],\"yaxis\":\"y\",\"type\":\"bar\",\"hoverinfo\":\"y+text\"},{\"alignmentgroup\":\"True\",\"customdata\":[[\"Shai Gilgeous-Alexander\"],[\"D\\u0101vis Bert\\u0101ns\"],[\"Kevin Porter Jr.\"],[\"Luguentz Dort\"],[\"Chet Holmgren\"],[\"Vasilije Mici\\u0107\"],[\"Josh Giddey\"],[\"Kenrich Williams\"],[\"Cason Wallace\"],[\"Aleksej Pokusevski\"],[\"Ousmane Dieng\"],[\"Jalen Williams\"],[\"Tre Mann\"],[\"Usman Garuba\"],[\"TyTy Washington Jr.\"],[\"Jaylin Williams\"],[\"Isaiah Joe\"],[\"Aaron Wiggins\"],[\"Jack White\"],[\"Rudy Gay\"]],\"hovertemplate\":\"Tm=%{x}<br>Salary=%{y}<br>Player=%{customdata[0]}<extra></extra>\",\"legendgroup\":\"OKC\",\"marker\":{\"color\":[\"#007ac1\",\"#2271ab\",\"#446894\",\"#665f7e\",\"#895667\",\"#ab4d51\",\"#cd443a\",\"#ef3b24\",\"#ef3b24\",\"#cd392d\",\"#ab3736\",\"#89353f\",\"#663347\",\"#443150\",\"#222f59\",\"#002d62\",\"#00244e\",\"#001b3b\"],\"pattern\":{\"shape\":\"\"}},\"name\":\"OKC\",\"offsetgroup\":\"OKC\",\"orientation\":\"v\",\"showlegend\":true,\"textposition\":\"auto\",\"x\":[\"OKC\",\"OKC\",\"OKC\",\"OKC\",\"OKC\",\"OKC\",\"OKC\",\"OKC\",\"OKC\",\"OKC\",\"OKC\",\"OKC\",\"OKC\",\"OKC\",\"OKC\",\"OKC\",\"OKC\",\"OKC\",\"OKC\",\"OKC\"],\"xaxis\":\"x\",\"y\":[33386850.0,17000000.0,15860000.0,15277778.0,10386000.0,7723000.0,6587040.0,6175000.0,5291400.0,5009633.0,4798440.0,4558680.0,3191400.0,2588400.0,2320440.0,2000000.0,1997238.0,1836096.0,600000.0,null],\"yaxis\":\"y\",\"type\":\"bar\",\"hoverinfo\":\"y+text\"},{\"alignmentgroup\":\"True\",\"customdata\":[[\"Keldon Johnson\"],[\"Doug McDermott\"],[\"Reggie Bullock\"],[\"Victor Wembanyama\"],[\"Devonte' Graham\"],[\"Tre Jones\"],[\"Cameron Payne\"],[\"Zach Collins\"],[\"Khem Birch\"],[\"Cedi Osman\"],[\"Joshua Primo\"],[\"Devin Vassell\"],[\"Jeremy Sochan\"],[\"Malaki Branham\"],[\"Julian Champagnie\"],[\"Charles Bassey\"],[\"Blake Wesley\"],[\"Lamar Stevens\"],[\"Sandro Mamukelashvili\"],[\"Sidy Cissoko\"]],\"hovertemplate\":\"Tm=%{x}<br>Salary=%{y}<br>Player=%{customdata[0]}<extra></extra>\",\"legendgroup\":\"SAS\",\"marker\":{\"color\":[\"#c4ced4\",\"#b8c2c8\",\"#adb6bb\",\"#a1aaaf\",\"#969ea2\",\"#8a9196\",\"#7f8589\",\"#73797d\",\"#686d70\",\"#5c6164\",\"#515557\",\"#45494b\",\"#3a3d3e\",\"#2e3032\",\"#232425\",\"#171819\",\"#0c0c0c\",\"#000000\"],\"pattern\":{\"shape\":\"\"}},\"name\":\"SAS\",\"offsetgroup\":\"SAS\",\"orientation\":\"v\",\"showlegend\":true,\"textposition\":\"auto\",\"x\":[\"SAS\",\"SAS\",\"SAS\",\"SAS\",\"SAS\",\"SAS\",\"SAS\",\"SAS\",\"SAS\",\"SAS\",\"SAS\",\"SAS\",\"SAS\",\"SAS\",\"SAS\",\"SAS\",\"SAS\",\"SAS\",\"SAS\",\"SAS\"],\"xaxis\":\"x\",\"y\":[20000000.0,13750000.0,13033786.0,12160680.0,12100000.0,9895833.0,8519706.0,7700000.0,6985000.0,6718842.0,6105941.0,5887899.0,5316960.0,3071880.0,3000000.0,2600000.0,2504640.0,2419706.0,2019706.0,1119563.0],\"yaxis\":\"y\",\"type\":\"bar\",\"hoverinfo\":\"y+text\"},{\"alignmentgroup\":\"True\",\"customdata\":[[\"Jordan Poole\"],[\"Kyle Kuzma\"],[\"Tyus Jones\"],[\"Marvin Bagley III\"],[\"Daniel Gafford\"],[\"Landry Shamet\"],[\"Delon Wright\"],[\"Bilal Coulibaly\"],[\"Deni Avdija\"],[\"Johnny Davis\"],[\"Corey Kispert\"],[\"Patrick Baldwin Jr.\"],[\"Taj Gibson\"],[\"Anthony Gill\"],[\"Isaiah Livers\"],[\"Ryan Rollins\"],[\"Xavier Cooks\"]],\"hovertemplate\":\"Tm=%{x}<br>Salary=%{y}<br>Player=%{customdata[0]}<extra></extra>\",\"legendgroup\":\"WAS\",\"marker\":{\"color\":[\"#e31837\",\"#bd1b3d\",\"#971e43\",\"#72224a\",\"#4c2550\",\"#262856\",\"#002b5c\",\"#002b5c\",\"#214670\",\"#416184\",\"#627c98\",\"#8398ac\",\"#a3b3c0\",\"#c4ced4\",\"#c4ced4\",\"#ffffff\",\"#ffffff\"],\"pattern\":{\"shape\":\"\"}},\"name\":\"WAS\",\"offsetgroup\":\"WAS\",\"orientation\":\"v\",\"showlegend\":true,\"textposition\":\"auto\",\"x\":[\"WAS\",\"WAS\",\"WAS\",\"WAS\",\"WAS\",\"WAS\",\"WAS\",\"WAS\",\"WAS\",\"WAS\",\"WAS\",\"WAS\",\"WAS\",\"WAS\",\"WAS\",\"WAS\",\"WAS\"],\"xaxis\":\"x\",\"y\":[27455357.0,25568182.0,14000000.0,12500000.0,12402000.0,10250000.0,8195122.0,6614280.0,6263188.0,5050800.0,3722040.0,2337720.0,2019706.0,1997238.0,1836096.0,1719864.0,1719864.0],\"yaxis\":\"y\",\"type\":\"bar\",\"hoverinfo\":\"y+text\"},{\"alignmentgroup\":\"True\",\"customdata\":[[\"Gordon Hayward\"],[\"Kyle Lowry\"],[\"P.J. Washington\"],[\"LaMelo Ball\"],[\"Brandon Miller\"],[\"Miles Bridges\"],[\"Cody Martin\"],[\"Nick Richards\"],[\"James Bouknight\"],[\"Mark Williams\"],[\"Kai Jones\"],[\"Nick Smith Jr.\"],[\"Ish Smith\"],[\"Frank Ntilikina\"],[\"JT Thor\"],[\"Bryce McGowens\"]],\"hovertemplate\":\"Tm=%{x}<br>Salary=%{y}<br>Player=%{customdata[0]}<extra></extra>\",\"legendgroup\":\"CHO\",\"marker\":{\"color\":[\"#1d1160\",\"#192066\",\"#152e6d\",\"#113d73\",\"#0c4c79\",\"#085b7f\",\"#046986\",\"#00788c\",\"#00788c\",\"#177e8f\",\"#2e8493\",\"#458a96\",\"#5c8f9a\",\"#73959d\",\"#8a9ba1\",\"#a1a1a4\"],\"pattern\":{\"shape\":\"\"}},\"name\":\"CHO\",\"offsetgroup\":\"CHO\",\"orientation\":\"v\",\"showlegend\":true,\"textposition\":\"auto\",\"x\":[\"CHO\",\"CHO\",\"CHO\",\"CHO\",\"CHO\",\"CHO\",\"CHO\",\"CHO\",\"CHO\",\"CHO\",\"CHO\",\"CHO\",\"CHO\",\"CHO\",\"CHO\",\"CHO\"],\"xaxis\":\"x\",\"y\":[31500000.0,29682540.0,16847826.0,10900635.0,10880400.0,7921300.0,7560000.0,5000000.0,4570080.0,3908160.0,3047880.0,2463960.0,2019706.0,2019706.0,1836096.0,1719864.0],\"yaxis\":\"y\",\"type\":\"bar\",\"hoverinfo\":\"y+text\"},{\"alignmentgroup\":\"True\",\"customdata\":[[\"Pascal Siakam\"],[\"Myles Turner\"],[\"Buddy Hield\"],[\"T.J. McConnell\"],[\"Daniel Theis\"],[\"Bennedict Mathurin\"],[\"Obi Toppin\"],[\"Jarace Walker\"],[\"Tyrese Haliburton\"],[\"Aaron Nesmith\"],[\"Jalen Smith\"],[\"Isaiah Jackson\"],[\"Ben Sheppard\"],[\"Andrew Nembhard\"],[\"Nik Stauskas\"],[\"Juwan Morgan\"],[\"Malik Fitts\"]],\"hovertemplate\":\"Tm=%{x}<br>Salary=%{y}<br>Player=%{customdata[0]}<extra></extra>\",\"legendgroup\":\"IND\",\"marker\":{\"color\":[\"#002d62\",\"#24415b\",\"#485654\",\"#6c6a4d\",\"#917e45\",\"#b5923e\",\"#d9a737\",\"#fdbb30\",\"#fdbb30\",\"#f4bc45\",\"#ebbc5a\",\"#e2bd6f\",\"#d9be83\",\"#d0bf98\",\"#c7bfad\",\"#c7bfad\",\"#bec0c2\",\"#bec0c2\"],\"pattern\":{\"shape\":\"\"}},\"name\":\"IND\",\"offsetgroup\":\"IND\",\"orientation\":\"v\",\"showlegend\":true,\"textposition\":\"auto\",\"x\":[\"IND\",\"IND\",\"IND\",\"IND\",\"IND\",\"IND\",\"IND\",\"IND\",\"IND\",\"IND\",\"IND\",\"IND\",\"IND\",\"IND\",\"IND\",\"IND\",\"IND\"],\"xaxis\":\"x\",\"y\":[37893408.0,20975000.0,19279841.0,8700000.0,8670002.0,6916080.0,6803012.0,6059520.0,5808435.0,5634257.0,5043773.0,2696280.0,2537160.0,2131905.0,702311.0,576230.0,555217.0],\"yaxis\":\"y\",\"type\":\"bar\",\"hoverinfo\":\"y+text\"},{\"alignmentgroup\":\"True\",\"customdata\":[[\"John Collins\"],[\"Jordan Clarkson\"],[\"Collin Sexton\"],[\"Lauri Markkanen\"],[\"Kelly Olynyk\"],[\"Talen Horton-Tucker\"],[\"Taylor Hendricks\"],[\"Ochai Agbaji\"],[\"Keyonte George\"],[\"Simone Fontecchio\"],[\"Walker Kessler\"],[\"Omer Yurtseven\"],[\"Kris Dunn\"],[\"Brice Sensabaugh\"],[\"Luka \\u0160amani\\u0107\"]],\"hovertemplate\":\"Tm=%{x}<br>Salary=%{y}<br>Player=%{customdata[0]}<extra></extra>\",\"legendgroup\":\"UTA\",\"marker\":{\"color\":[\"#002b5c\",\"#002e55\",\"#00314e\",\"#003446\",\"#00373f\",\"#003b38\",\"#003e31\",\"#004129\",\"#004422\",\"#00471b\",\"#00471b\",\"#1c511b\",\"#375b1b\",\"#53651b\",\"#6f6f1b\",\"#8a781b\",\"#a6821b\",\"#c28c1b\",\"#dd961b\",\"#f9a01b\"],\"pattern\":{\"shape\":\"\"}},\"name\":\"UTA\",\"offsetgroup\":\"UTA\",\"orientation\":\"v\",\"showlegend\":true,\"textposition\":\"auto\",\"x\":[\"UTA\",\"UTA\",\"UTA\",\"UTA\",\"UTA\",\"UTA\",\"UTA\",\"UTA\",\"UTA\",\"UTA\",\"UTA\",\"UTA\",\"UTA\",\"UTA\",\"UTA\"],\"xaxis\":\"x\",\"y\":[25340000.0,23487629.0,17325000.0,17259999.0,12195122.0,11020000.0,5569920.0,4114200.0,3889800.0,3044872.0,2831160.0,2800000.0,2586665.0,2448600.0,2066585.0],\"yaxis\":\"y\",\"type\":\"bar\",\"hoverinfo\":\"y+text\"},{\"alignmentgroup\":\"True\",\"customdata\":[[\"Bojan Bogdanovi\\u0107\"],[\"Joe Harris\"],[\"James Wiseman\"],[\"Cade Cunningham\"],[\"Alec Burks\"],[\"Monte Morris\"],[\"Ausar Thompson\"],[\"Jaden Ivey\"],[\"Killian Hayes\"],[\"Danilo Gallinari\"],[\"Isaiah Stewart\"],[\"Jalen Duren\"],[\"Mike Muscala\"],[\"Dewayne Dedmon\"],[\"Marcus Sasser\"],[\"Kevin Knox\"]],\"hovertemplate\":\"Tm=%{x}<br>Salary=%{y}<br>Player=%{customdata[0]}<extra></extra>\",\"legendgroup\":\"DET\",\"marker\":{\"color\":[\"#c8102e\",\"#a61a4a\",\"#842466\",\"#612e82\",\"#3f389e\",\"#1d42ba\",\"#1d42ba\",\"#3d5bbc\",\"#5d74bd\",\"#7e8ebf\",\"#9ea7c0\",\"#bec0c2\",\"#bec0c2\",\"#98a3af\",\"#72859c\",\"#4c6888\",\"#264a75\",\"#002d62\"],\"pattern\":{\"shape\":\"\"}},\"name\":\"DET\",\"offsetgroup\":\"DET\",\"orientation\":\"v\",\"showlegend\":true,\"textposition\":\"auto\",\"x\":[\"DET\",\"DET\",\"DET\",\"DET\",\"DET\",\"DET\",\"DET\",\"DET\",\"DET\",\"DET\",\"DET\",\"DET\",\"DET\",\"DET\",\"DET\",\"DET\"],\"xaxis\":\"x\",\"y\":[20000000.0,19928571.0,12119440.0,11055360.0,10489600.0,9800926.0,7977480.0,7614480.0,7413955.0,6802950.0,5266713.0,4330680.0,3500000.0,2748674.0,2624040.0,1845593.0],\"yaxis\":\"y\",\"type\":\"bar\",\"hoverinfo\":\"y+text\"},{\"alignmentgroup\":\"True\",\"customdata\":[[\"Jonathan Isaac\"],[\"Markelle Fultz\"],[\"Wendell Carter Jr.\"],[\"Gary Harris\"],[\"Paolo Banchero\"],[\"Joe Ingles\"],[\"Moritz Wagner\"],[\"Jalen Suggs\"],[\"Anthony Black\"],[\"Cole Anthony\"],[\"Franz Wagner\"],[\"Chuma Okeke\"],[\"Jett Howard\"],[\"Goga Bitadze\"],[\"Caleb Houstan\"]],\"hovertemplate\":\"Tm=%{x}<br>Salary=%{y}<br>Player=%{customdata[0]}<extra></extra>\",\"legendgroup\":\"ORL\",\"marker\":{\"color\":[\"#0077c0\",\"#1c83c3\",\"#3890c6\",\"#549cc9\",\"#70a9cb\",\"#8cb5ce\",\"#a8c2d1\",\"#c4ced4\",\"#c4ced4\",\"#a8b1b6\",\"#8c9397\",\"#707679\",\"#54585b\",\"#383b3d\",\"#1c1d1e\",\"#000000\"],\"pattern\":{\"shape\":\"\"}},\"name\":\"ORL\",\"offsetgroup\":\"ORL\",\"orientation\":\"v\",\"showlegend\":true,\"textposition\":\"auto\",\"x\":[\"ORL\",\"ORL\",\"ORL\",\"ORL\",\"ORL\",\"ORL\",\"ORL\",\"ORL\",\"ORL\",\"ORL\",\"ORL\",\"ORL\",\"ORL\",\"ORL\",\"ORL\"],\"xaxis\":\"x\",\"y\":[17400000.0,17000000.0,13050000.0,13000000.0,11608080.0,11000000.0,8000000.0,7252080.0,7245480.0,5539771.0,5508720.0,5266713.0,5026800.0,2066585.0,2000000.0],\"yaxis\":\"y\",\"type\":\"bar\",\"hoverinfo\":\"y+text\"}],                        {\"template\":{\"data\":{\"histogram2dcontour\":[{\"type\":\"histogram2dcontour\",\"colorbar\":{\"outlinewidth\":0,\"ticks\":\"\"},\"colorscale\":[[0.0,\"#0d0887\"],[0.1111111111111111,\"#46039f\"],[0.2222222222222222,\"#7201a8\"],[0.3333333333333333,\"#9c179e\"],[0.4444444444444444,\"#bd3786\"],[0.5555555555555556,\"#d8576b\"],[0.6666666666666666,\"#ed7953\"],[0.7777777777777778,\"#fb9f3a\"],[0.8888888888888888,\"#fdca26\"],[1.0,\"#f0f921\"]]}],\"choropleth\":[{\"type\":\"choropleth\",\"colorbar\":{\"outlinewidth\":0,\"ticks\":\"\"}}],\"histogram2d\":[{\"type\":\"histogram2d\",\"colorbar\":{\"outlinewidth\":0,\"ticks\":\"\"},\"colorscale\":[[0.0,\"#0d0887\"],[0.1111111111111111,\"#46039f\"],[0.2222222222222222,\"#7201a8\"],[0.3333333333333333,\"#9c179e\"],[0.4444444444444444,\"#bd3786\"],[0.5555555555555556,\"#d8576b\"],[0.6666666666666666,\"#ed7953\"],[0.7777777777777778,\"#fb9f3a\"],[0.8888888888888888,\"#fdca26\"],[1.0,\"#f0f921\"]]}],\"heatmap\":[{\"type\":\"heatmap\",\"colorbar\":{\"outlinewidth\":0,\"ticks\":\"\"},\"colorscale\":[[0.0,\"#0d0887\"],[0.1111111111111111,\"#46039f\"],[0.2222222222222222,\"#7201a8\"],[0.3333333333333333,\"#9c179e\"],[0.4444444444444444,\"#bd3786\"],[0.5555555555555556,\"#d8576b\"],[0.6666666666666666,\"#ed7953\"],[0.7777777777777778,\"#fb9f3a\"],[0.8888888888888888,\"#fdca26\"],[1.0,\"#f0f921\"]]}],\"heatmapgl\":[{\"type\":\"heatmapgl\",\"colorbar\":{\"outlinewidth\":0,\"ticks\":\"\"},\"colorscale\":[[0.0,\"#0d0887\"],[0.1111111111111111,\"#46039f\"],[0.2222222222222222,\"#7201a8\"],[0.3333333333333333,\"#9c179e\"],[0.4444444444444444,\"#bd3786\"],[0.5555555555555556,\"#d8576b\"],[0.6666666666666666,\"#ed7953\"],[0.7777777777777778,\"#fb9f3a\"],[0.8888888888888888,\"#fdca26\"],[1.0,\"#f0f921\"]]}],\"contourcarpet\":[{\"type\":\"contourcarpet\",\"colorbar\":{\"outlinewidth\":0,\"ticks\":\"\"}}],\"contour\":[{\"type\":\"contour\",\"colorbar\":{\"outlinewidth\":0,\"ticks\":\"\"},\"colorscale\":[[0.0,\"#0d0887\"],[0.1111111111111111,\"#46039f\"],[0.2222222222222222,\"#7201a8\"],[0.3333333333333333,\"#9c179e\"],[0.4444444444444444,\"#bd3786\"],[0.5555555555555556,\"#d8576b\"],[0.6666666666666666,\"#ed7953\"],[0.7777777777777778,\"#fb9f3a\"],[0.8888888888888888,\"#fdca26\"],[1.0,\"#f0f921\"]]}],\"surface\":[{\"type\":\"surface\",\"colorbar\":{\"outlinewidth\":0,\"ticks\":\"\"},\"colorscale\":[[0.0,\"#0d0887\"],[0.1111111111111111,\"#46039f\"],[0.2222222222222222,\"#7201a8\"],[0.3333333333333333,\"#9c179e\"],[0.4444444444444444,\"#bd3786\"],[0.5555555555555556,\"#d8576b\"],[0.6666666666666666,\"#ed7953\"],[0.7777777777777778,\"#fb9f3a\"],[0.8888888888888888,\"#fdca26\"],[1.0,\"#f0f921\"]]}],\"mesh3d\":[{\"type\":\"mesh3d\",\"colorbar\":{\"outlinewidth\":0,\"ticks\":\"\"}}],\"scatter\":[{\"fillpattern\":{\"fillmode\":\"overlay\",\"size\":10,\"solidity\":0.2},\"type\":\"scatter\"}],\"parcoords\":[{\"type\":\"parcoords\",\"line\":{\"colorbar\":{\"outlinewidth\":0,\"ticks\":\"\"}}}],\"scatterpolargl\":[{\"type\":\"scatterpolargl\",\"marker\":{\"colorbar\":{\"outlinewidth\":0,\"ticks\":\"\"}}}],\"bar\":[{\"error_x\":{\"color\":\"#2a3f5f\"},\"error_y\":{\"color\":\"#2a3f5f\"},\"marker\":{\"line\":{\"color\":\"#E5ECF6\",\"width\":0.5},\"pattern\":{\"fillmode\":\"overlay\",\"size\":10,\"solidity\":0.2}},\"type\":\"bar\"}],\"scattergeo\":[{\"type\":\"scattergeo\",\"marker\":{\"colorbar\":{\"outlinewidth\":0,\"ticks\":\"\"}}}],\"scatterpolar\":[{\"type\":\"scatterpolar\",\"marker\":{\"colorbar\":{\"outlinewidth\":0,\"ticks\":\"\"}}}],\"histogram\":[{\"marker\":{\"pattern\":{\"fillmode\":\"overlay\",\"size\":10,\"solidity\":0.2}},\"type\":\"histogram\"}],\"scattergl\":[{\"type\":\"scattergl\",\"marker\":{\"colorbar\":{\"outlinewidth\":0,\"ticks\":\"\"}}}],\"scatter3d\":[{\"type\":\"scatter3d\",\"line\":{\"colorbar\":{\"outlinewidth\":0,\"ticks\":\"\"}},\"marker\":{\"colorbar\":{\"outlinewidth\":0,\"ticks\":\"\"}}}],\"scattermapbox\":[{\"type\":\"scattermapbox\",\"marker\":{\"colorbar\":{\"outlinewidth\":0,\"ticks\":\"\"}}}],\"scatterternary\":[{\"type\":\"scatterternary\",\"marker\":{\"colorbar\":{\"outlinewidth\":0,\"ticks\":\"\"}}}],\"scattercarpet\":[{\"type\":\"scattercarpet\",\"marker\":{\"colorbar\":{\"outlinewidth\":0,\"ticks\":\"\"}}}],\"carpet\":[{\"aaxis\":{\"endlinecolor\":\"#2a3f5f\",\"gridcolor\":\"white\",\"linecolor\":\"white\",\"minorgridcolor\":\"white\",\"startlinecolor\":\"#2a3f5f\"},\"baxis\":{\"endlinecolor\":\"#2a3f5f\",\"gridcolor\":\"white\",\"linecolor\":\"white\",\"minorgridcolor\":\"white\",\"startlinecolor\":\"#2a3f5f\"},\"type\":\"carpet\"}],\"table\":[{\"cells\":{\"fill\":{\"color\":\"#EBF0F8\"},\"line\":{\"color\":\"white\"}},\"header\":{\"fill\":{\"color\":\"#C8D4E3\"},\"line\":{\"color\":\"white\"}},\"type\":\"table\"}],\"barpolar\":[{\"marker\":{\"line\":{\"color\":\"#E5ECF6\",\"width\":0.5},\"pattern\":{\"fillmode\":\"overlay\",\"size\":10,\"solidity\":0.2}},\"type\":\"barpolar\"}],\"pie\":[{\"automargin\":true,\"type\":\"pie\"}]},\"layout\":{\"autotypenumbers\":\"strict\",\"colorway\":[\"#636efa\",\"#EF553B\",\"#00cc96\",\"#ab63fa\",\"#FFA15A\",\"#19d3f3\",\"#FF6692\",\"#B6E880\",\"#FF97FF\",\"#FECB52\"],\"font\":{\"color\":\"#2a3f5f\"},\"hovermode\":\"closest\",\"hoverlabel\":{\"align\":\"left\"},\"paper_bgcolor\":\"white\",\"plot_bgcolor\":\"#E5ECF6\",\"polar\":{\"bgcolor\":\"#E5ECF6\",\"angularaxis\":{\"gridcolor\":\"white\",\"linecolor\":\"white\",\"ticks\":\"\"},\"radialaxis\":{\"gridcolor\":\"white\",\"linecolor\":\"white\",\"ticks\":\"\"}},\"ternary\":{\"bgcolor\":\"#E5ECF6\",\"aaxis\":{\"gridcolor\":\"white\",\"linecolor\":\"white\",\"ticks\":\"\"},\"baxis\":{\"gridcolor\":\"white\",\"linecolor\":\"white\",\"ticks\":\"\"},\"caxis\":{\"gridcolor\":\"white\",\"linecolor\":\"white\",\"ticks\":\"\"}},\"coloraxis\":{\"colorbar\":{\"outlinewidth\":0,\"ticks\":\"\"}},\"colorscale\":{\"sequential\":[[0.0,\"#0d0887\"],[0.1111111111111111,\"#46039f\"],[0.2222222222222222,\"#7201a8\"],[0.3333333333333333,\"#9c179e\"],[0.4444444444444444,\"#bd3786\"],[0.5555555555555556,\"#d8576b\"],[0.6666666666666666,\"#ed7953\"],[0.7777777777777778,\"#fb9f3a\"],[0.8888888888888888,\"#fdca26\"],[1.0,\"#f0f921\"]],\"sequentialminus\":[[0.0,\"#0d0887\"],[0.1111111111111111,\"#46039f\"],[0.2222222222222222,\"#7201a8\"],[0.3333333333333333,\"#9c179e\"],[0.4444444444444444,\"#bd3786\"],[0.5555555555555556,\"#d8576b\"],[0.6666666666666666,\"#ed7953\"],[0.7777777777777778,\"#fb9f3a\"],[0.8888888888888888,\"#fdca26\"],[1.0,\"#f0f921\"]],\"diverging\":[[0,\"#8e0152\"],[0.1,\"#c51b7d\"],[0.2,\"#de77ae\"],[0.3,\"#f1b6da\"],[0.4,\"#fde0ef\"],[0.5,\"#f7f7f7\"],[0.6,\"#e6f5d0\"],[0.7,\"#b8e186\"],[0.8,\"#7fbc41\"],[0.9,\"#4d9221\"],[1,\"#276419\"]]},\"xaxis\":{\"gridcolor\":\"white\",\"linecolor\":\"white\",\"ticks\":\"\",\"title\":{\"standoff\":15},\"zerolinecolor\":\"white\",\"automargin\":true,\"zerolinewidth\":2},\"yaxis\":{\"gridcolor\":\"white\",\"linecolor\":\"white\",\"ticks\":\"\",\"title\":{\"standoff\":15},\"zerolinecolor\":\"white\",\"automargin\":true,\"zerolinewidth\":2},\"scene\":{\"xaxis\":{\"backgroundcolor\":\"#E5ECF6\",\"gridcolor\":\"white\",\"linecolor\":\"white\",\"showbackground\":true,\"ticks\":\"\",\"zerolinecolor\":\"white\",\"gridwidth\":2},\"yaxis\":{\"backgroundcolor\":\"#E5ECF6\",\"gridcolor\":\"white\",\"linecolor\":\"white\",\"showbackground\":true,\"ticks\":\"\",\"zerolinecolor\":\"white\",\"gridwidth\":2},\"zaxis\":{\"backgroundcolor\":\"#E5ECF6\",\"gridcolor\":\"white\",\"linecolor\":\"white\",\"showbackground\":true,\"ticks\":\"\",\"zerolinecolor\":\"white\",\"gridwidth\":2}},\"shapedefaults\":{\"line\":{\"color\":\"#2a3f5f\"}},\"annotationdefaults\":{\"arrowcolor\":\"#2a3f5f\",\"arrowhead\":0,\"arrowwidth\":1},\"geo\":{\"bgcolor\":\"white\",\"landcolor\":\"#E5ECF6\",\"subunitcolor\":\"white\",\"showland\":true,\"showlakes\":true,\"lakecolor\":\"white\"},\"title\":{\"x\":0.05},\"mapbox\":{\"style\":\"light\"}}},\"xaxis\":{\"anchor\":\"y\",\"domain\":[0.0,1.0],\"title\":{\"text\":\"Team\"},\"categoryorder\":\"array\",\"categoryarray\":[\"LAC\",\"GSW\",\"MIL\",\"PHO\",\"BOS\",\"DEN\",\"MIA\",\"PHI\",\"CHI\",\"DAL\",\"LAL\",\"MIN\",\"NOP\",\"CLE\",\"POR\",\"HOU\",\"NYK\",\"BRK\",\"MEM\",\"TOR\",\"ATL\",\"SAC\",\"OKC\",\"SAS\",\"WAS\",\"CHO\",\"IND\",\"UTA\",\"DET\",\"ORL\",null],\"tickangle\":-45},\"yaxis\":{\"anchor\":\"x\",\"domain\":[0.0,1.0],\"title\":{\"text\":\"Salary in USD\"}},\"legend\":{\"title\":{\"text\":\"Tm\"},\"tracegroupgap\":0},\"title\":{\"text\":\"NBA Players Salaries by Team (2023-24)\"},\"barmode\":\"relative\",\"height\":600,\"shapes\":[{\"line\":{\"color\":\"yellow\",\"dash\":\"dash\",\"width\":2},\"type\":\"line\",\"x0\":-0.5,\"x1\":29.5,\"y0\":136000000.0,\"y1\":136000000.0},{\"line\":{\"color\":\"red\",\"dash\":\"dash\",\"width\":2},\"type\":\"line\",\"x0\":-0.5,\"x1\":29.5,\"y0\":172000000.0,\"y1\":172000000.0},{\"line\":{\"color\":\"orange\",\"dash\":\"dash\",\"width\":2},\"type\":\"line\",\"x0\":-0.5,\"x1\":29.5,\"y0\":165000000.0,\"y1\":165000000.0}]},                        {\"responsive\": true}                    ).then(function(){\n",
       "                            \n",
       "var gd = document.getElementById('2cc74edb-cc8a-40a7-acfb-0b941a6b3159');\n",
       "var x = new MutationObserver(function (mutations, observer) {{\n",
       "        var display = window.getComputedStyle(gd).display;\n",
       "        if (!display || display === 'none') {{\n",
       "            console.log([gd, 'removed!']);\n",
       "            Plotly.purge(gd);\n",
       "            observer.disconnect();\n",
       "        }}\n",
       "}});\n",
       "\n",
       "// Listen for the removal of the full notebook cells\n",
       "var notebookContainer = gd.closest('#notebook-container');\n",
       "if (notebookContainer) {{\n",
       "    x.observe(notebookContainer, {childList: true});\n",
       "}}\n",
       "\n",
       "// Listen for the clearing of the current output cell\n",
       "var outputEl = gd.closest('.output');\n",
       "if (outputEl) {{\n",
       "    x.observe(outputEl, {childList: true});\n",
       "}}\n",
       "\n",
       "                        })                };                });            </script>        </div>"
      ]
     },
     "metadata": {},
     "output_type": "display_data"
    }
   ],
   "source": [
    "# Sort by salary\n",
    "salary_columns = ['2023-24']\n",
    "df[salary_columns] = df[salary_columns].replace('[\\$,]', '', regex=True).astype(float)\n",
    "df = df.sort_values(by='2023-24', ascending=False)\n",
    "total_salary_by_team = df.groupby('Tm')['2023-24'].sum().reset_index()\n",
    "total_salary_by_team = total_salary_by_team.sort_values(by='2023-24', ascending=False)\n",
    "\n",
    "# Create the graph\n",
    "fig = px.bar(\n",
    "    df,\n",
    "    x='Tm',\n",
    "    y='2023-24',\n",
    "    color='Tm',\n",
    "    hover_data=['Player'],\n",
    "    labels={'2023-24': 'Salary'},\n",
    "    title='NBA Players Salaries by Team (2023-24)',\n",
    "    height=600,\n",
    "    color_discrete_map=team_colors,\n",
    "    category_orders={'Tm': total_salary_by_team['Tm'].tolist()} \n",
    ")\n",
    "# Markings for salary caps\n",
    "# Cap Maximum\n",
    "fig.add_shape(\n",
    "    type='line',\n",
    "    x0=-0.5, x1=len(total_salary_by_team['Tm']) - 0.5,\n",
    "    y0=136e6, y1=136e6,\n",
    "    line=dict(color='yellow', width=2, dash='dash'),\n",
    ")\n",
    "\n",
    "# Luxury Tax Apron\n",
    "fig.add_shape(\n",
    "    type='line',\n",
    "    x0=-0.5, x1=len(total_salary_by_team['Tm']) - 0.5,\n",
    "    y0=172e6, y1=172e6,\n",
    "    line=dict(color='red', width=2, dash='dash'),\n",
    ")\n",
    "\n",
    "# Luxury Tax Threshold\n",
    "fig.add_shape(\n",
    "    type='line',\n",
    "    x0=-0.5, x1=len(total_salary_by_team['Tm']) - 0.5,\n",
    "    y0=165e6, y1=165e6,\n",
    "    line=dict(color='orange', width=2, dash='dash'),\n",
    ")\n",
    "\n",
    "fig.update_layout(\n",
    "    xaxis_title='Team',\n",
    "    yaxis_title='Salary in USD',\n",
    "    xaxis_tickangle=-45,\n",
    ")\n",
    "\n",
    "fig.update_traces(hoverinfo='y+text')\n",
    "\n",
    "fig.show()"
   ]
  }
 ],
 "metadata": {
  "kernelspec": {
   "display_name": "Python 3 (ipykernel)",
   "language": "python",
   "name": "python3"
  },
  "language_info": {
   "codemirror_mode": {
    "name": "ipython",
    "version": 3
   },
   "file_extension": ".py",
   "mimetype": "text/x-python",
   "name": "python",
   "nbconvert_exporter": "python",
   "pygments_lexer": "ipython3",
   "version": "3.7.9"
  }
 },
 "nbformat": 4,
 "nbformat_minor": 5
}
